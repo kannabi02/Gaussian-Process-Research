{
 "cells": [
  {
   "cell_type": "code",
   "execution_count": 1,
   "metadata": {},
   "outputs": [],
   "source": [
    "\n",
    "#PATH = r\"C:/Users/owen_/Documents/git/exjobb\"\n",
    "PATH = r\"F:/Documents/git/exjobb\"\n",
    "DATAPATH = PATH + \"/data\""
   ]
  },
  {
   "cell_type": "code",
   "execution_count": 2,
   "metadata": {},
   "outputs": [],
   "source": [
    "%matplotlib qt"
   ]
  },
  {
   "cell_type": "code",
   "execution_count": 3,
   "metadata": {},
   "outputs": [],
   "source": [
    "import pandas as pd\n",
    "import matplotlib.pyplot as plt\n",
    "import os\n",
    "import numpy as np\n",
    "import json\n",
    "import datetime\n",
    "import math\n",
    "from notebook_functions import dataloader\n",
    "from notebook_functions import dataResolutionChange\n",
    "from workalendar.europe import Germany"
   ]
  },
  {
   "cell_type": "code",
   "execution_count": 4,
   "metadata": {},
   "outputs": [
    {
     "name": "stdout",
     "output_type": "stream",
     "text": [
      "Index(['Total[MWh]', 'Residual load[MWh]', 'Datetime'], dtype='object')\n",
      "#dates 50232 #uniques 50232 #nans 0 len datetime 50232\n"
     ]
    },
    {
     "name": "stderr",
     "output_type": "stream",
     "text": [
      "H:\\Program\\Anaconda\\envs\\Finstat\\lib\\site-packages\\IPython\\core\\interactiveshell.py:3337: DtypeWarning: Columns (13) have mixed types. Specify dtype option on import or set low_memory=False.\n",
      "  if (await self.run_code(code, result,  async_=asy)):\n"
     ]
    },
    {
     "name": "stdout",
     "output_type": "stream",
     "text": [
      "Index(['Biomass[MWh]', 'Hydropower[MWh]', 'Wind offshore[MWh]',\n",
      "       'Wind onshore[MWh]', 'Photovoltaics[MWh]', 'Other renewable[MWh]',\n",
      "       'Nuclear[MWh]', 'Fossil brown coal[MWh]', 'Fossil hard coal[MWh]',\n",
      "       'Fossil gas[MWh]', 'Hydro pumped storage[MWh]',\n",
      "       'Other conventional[MWh]', 'Datetime'],\n",
      "      dtype='object')\n",
      "#dates 50232 #uniques 50232 #nans 0 len datetime 50232\n",
      "Index(['Total[MWh]', 'Wind offshore[MWh]', 'Wind onshore[MWh]',\n",
      "       'Photovoltaics[MWh]', 'Other[MWh]', 'Datetime'],\n",
      "      dtype='object')\n",
      "#dates 50232 #uniques 50232 #nans 0 len datetime 50232\n",
      "Index(['Total[MWh]', 'Forecasted residual load[MWh]', 'Datetime'], dtype='object')\n",
      "#dates 50232 #uniques 50232 #nans 0 len datetime 50232\n",
      "Index(['Physical net export[MWh]', 'Netherlands (export)[MWh]',\n",
      "       'Netherlands (import)[MWh]', 'Switzerland (export)[MWh]',\n",
      "       'Switzerland (import)[MWh]', 'Denmark (export)[MWh]',\n",
      "       'Denmark (import)[MWh]', 'Czech Republic (export)[MWh]',\n",
      "       'Czech Republic (import)[MWh]', 'Luxembourg (export)[MWh]',\n",
      "       'Luxembourg (import)[MWh]', 'Sweden (export)[MWh]',\n",
      "       'Sweden (import)[MWh]', 'Austria (export)[MWh]',\n",
      "       'Austria (import)[MWh]', 'France (export)[MWh]', 'France (import)[MWh]',\n",
      "       'Poland (export)[MWh]', 'Poland (import)[MWh]', 'Datetime'],\n",
      "      dtype='object')\n",
      "#dates 50232 #uniques 50232 #nans 0 len datetime 50232\n",
      "Index(['Germany/Luxembourg[€/MWh]', 'Denmark 1[€/MWh]', 'Denmark 2[€/MWh]',\n",
      "       'France[€/MWh]', 'Northern Italy[€/MWh]', 'Netherlands[€/MWh]',\n",
      "       'Poland[€/MWh]', 'Sweden 4[€/MWh]', 'Switzerland[€/MWh]',\n",
      "       'Slovenia[€/MWh]', 'Czech Republic[€/MWh]', 'Hungary[€/MWh]',\n",
      "       'Austria[€/MWh]', 'Germany/Austria/Luxembourg[€/MWh]', 'Datetime'],\n",
      "      dtype='object')\n",
      "#dates 50232 #uniques 50232 #nans 0 len datetime 50232\n",
      "#dates 6 #uniques 6 #nans 0 len datetime 6\n"
     ]
    }
   ],
   "source": [
    "### Parsing all raw data into easier to work with CSV files. Only needs to be ran when dataloader gets updated.\n",
    "listofdatasets = [(\"/Actual_consumption\", \"/actcons.csv\", True, True), (\"/Actual_generation\",\"/actprod.csv\", True, True), \n",
    "                  (\"/Forecasted_generation\", \"/foreprod.csv\", True, True), (\"/Forecasted_consumption\", \"/forecons.csv\", True, True), \n",
    "                  (\"/Cross-border_physical_flows\", \"/Net_import_export.csv\", False, True), (\"/Day-ahead_prices\", \"/Day_ahead_prices.csv\", False, True),\n",
    "                  (\"/Installed_generation_capacity\", \"/installed_capacity.csv\", False, False)]\n",
    "for item in listofdatasets:\n",
    "    dataloader.dataloader(DATAPATH+item[0], DATAPATH+item[1], item[2], item[3])"
   ]
  },
  {
   "cell_type": "code",
   "execution_count": 6,
   "metadata": {},
   "outputs": [],
   "source": [
    "### Load all data\n",
    "actprod = pd.read_csv(DATAPATH + \"/actprod.csv\")\n",
    "#actprod_4res = pd.read_csv(DATAPATH+\"/actprod_4res.csv\")\n",
    "actcons = pd.read_csv(DATAPATH+\"/actcons.csv\")\n",
    "#actcons_4res = pd.read_csv(DATAPATH+\"/actcons_4res.csv\")\n",
    "foreprod = pd.read_csv(DATAPATH+\"/foreprod.csv\")\n",
    "#foreprod_4res = pd.read_csv(DATAPATH+\"/foreprod_4res.csv\")\n",
    "forecons = pd.read_csv(DATAPATH+\"/forecons.csv\")\n",
    "#forecons_4res = pd.read_csv(DATAPATH+\"/forecons_4res.csv\")\n",
    "\n",
    "netimportexport = pd.read_csv(DATAPATH+\"/Net_import_export.csv\")\n",
    "installcapacity = pd.read_csv(DATAPATH+\"/installed_capacity.csv\")\n",
    "day_ahead_prices = pd.read_csv(DATAPATH+\"/Day_ahead_prices.csv\")"
   ]
  },
  {
   "cell_type": "code",
   "execution_count": 7,
   "metadata": {},
   "outputs": [
    {
     "name": "stdout",
     "output_type": "stream",
     "text": [
      "       Price  Hour             Datetime  Month  Year  Weekclass Weekday  \\\n",
      "0        NaN     0  2015-01-01 00:00:00      1  2015        7.0     Thu   \n",
      "1        NaN     1  2015-01-01 01:00:00      1  2015        7.0     Thu   \n",
      "2        NaN     2  2015-01-01 02:00:00      1  2015        7.0     Thu   \n",
      "3        NaN     3  2015-01-01 03:00:00      1  2015        7.0     Thu   \n",
      "4        NaN     4  2015-01-01 04:00:00      1  2015        7.0     Thu   \n",
      "...      ...   ...                  ...    ...   ...        ...     ...   \n",
      "50227  60.80    19  2020-09-23 19:00:00      9  2020        3.0     Wed   \n",
      "50228  53.01    20  2020-09-23 20:00:00      9  2020        3.0     Wed   \n",
      "50229  49.89    21  2020-09-23 21:00:00      9  2020        3.0     Wed   \n",
      "50230  39.02    22  2020-09-23 22:00:00      9  2020        3.0     Wed   \n",
      "50231  32.45    23  2020-09-23 23:00:00      9  2020        3.0     Wed   \n",
      "\n",
      "        Grouped_daytype  \n",
      "0               Holiday  \n",
      "1               Holiday  \n",
      "2               Holiday  \n",
      "3               Holiday  \n",
      "4               Holiday  \n",
      "...                 ...  \n",
      "50227  Tuesday-Thursday  \n",
      "50228  Tuesday-Thursday  \n",
      "50229  Tuesday-Thursday  \n",
      "50230  Tuesday-Thursday  \n",
      "50231  Tuesday-Thursday  \n",
      "\n",
      "[50232 rows x 8 columns]\n"
     ]
    }
   ],
   "source": [
    "daprice_germany_new = pd.DataFrame()\n",
    "sp1 = day_ahead_prices.index[-day_ahead_prices['Germany/Luxembourg[€/MWh]'].isna()]\n",
    "sp2 = day_ahead_prices.index[-day_ahead_prices['Germany/Austria/Luxembourg[€/MWh]'].isna()]\n",
    "sp3 = day_ahead_prices.index[day_ahead_prices['Germany/Luxembourg[€/MWh]'].isna() & day_ahead_prices['Germany/Austria/Luxembourg[€/MWh]'].isna()]\n",
    "\n",
    "daprice_germany_new['Price'] = pd.concat([day_ahead_prices['Germany/Luxembourg[€/MWh]'][sp3], day_ahead_prices['Germany/Austria/Luxembourg[€/MWh]'][sp2],day_ahead_prices['Germany/Luxembourg[€/MWh]'][sp1]])\n",
    "timelist = ['Hour', 'Datetime', 'Month','Year','Weekclass','Weekday','Grouped_daytype']\n",
    "for timeitem in timelist:\n",
    "    daprice_germany_new[timeitem] = day_ahead_prices[timeitem]\n",
    "daprice_germany_new.plot(x='Datetime', y='Price')\n",
    "print(daprice_germany_new)"
   ]
  },
  {
   "cell_type": "code",
   "execution_count": 8,
   "metadata": {},
   "outputs": [],
   "source": [
    "capacity_extended = pd.DataFrame([])\n",
    "NhrInYear = 365*24\n",
    "capacity_extended = installcapacity.iloc[np.repeat(np.arange(len(installcapacity)),NhrInYear)].reset_index()\n",
    "del capacity_extended['index']\n",
    "caplendiff = capacity_extended.shape[0]-foreprod.shape[0]\n",
    "capacity_extended = capacity_extended.iloc[:50231,:]"
   ]
  },
  {
   "cell_type": "code",
   "execution_count": 9,
   "metadata": {},
   "outputs": [
    {
     "name": "stderr",
     "output_type": "stream",
     "text": [
      "H:\\Program\\Anaconda\\envs\\Finstat\\lib\\site-packages\\pandas\\core\\indexing.py:494: SettingWithCopyWarning: \n",
      "A value is trying to be set on a copy of a slice from a DataFrame.\n",
      "Try using .loc[row_indexer,col_indexer] = value instead\n",
      "\n",
      "See the caveats in the documentation: http://pandas.pydata.org/pandas-docs/stable/user_guide/indexing.html#returning-a-view-versus-a-copy\n",
      "  self.obj[item] = s\n"
     ]
    },
    {
     "name": "stdout",
     "output_type": "stream",
     "text": [
      "8759 8760\n",
      "17519 26279\n"
     ]
    }
   ],
   "source": [
    "capacity_extended = pd.DataFrame([])\n",
    "NhrInYear = 365*24\n",
    "capacity_extended = installcapacity.iloc[np.repeat(np.arange(len(installcapacity)),NhrInYear)].reset_index()\n",
    "datacols = ['Biomass[MW]', 'Hydropower[MW]', 'Wind offshore[MW]',\n",
    "       'Wind onshore[MW]', 'Photovoltaics[MW]', 'Other renewable[MW]',\n",
    "       'Nuclear[MW]', 'Fossil brown coal[MW]', 'Fossil hard coal[MW]',\n",
    "       'Fossil gas[MW]', 'Hydro pumped storage[MW]', 'Other conventional[MW]']\n",
    "del capacity_extended['index']\n",
    "cap_ext1 = capacity_extended.iloc[:NhrInYear,:]\n",
    "cap_ext2 = capacity_extended.iloc[NhrInYear:2*NhrInYear,:]\n",
    "cap_ext3 = capacity_extended.iloc[2*NhrInYear:3*NhrInYear,:]\n",
    "cap_ext4 = capacity_extended.iloc[3*NhrInYear:4*NhrInYear,:]\n",
    "cap_ext5 = capacity_extended.iloc[4*NhrInYear:5*NhrInYear,:]\n",
    "cap_ext6 = capacity_extended.iloc[5*NhrInYear:50232,:]\n",
    "\n",
    "for j in range(len(datacols)):\n",
    "    cap_ext1.iloc[0,j] = np.max([actprod.iloc[0,j], cap_ext1.iloc[0,j]])\n",
    "    for i in range(1, cap_ext1.shape[0]):\n",
    "        cap_ext1.iloc[i,j] = np.max([actprod.iloc[i,j], cap_ext1.iloc[i-1,j], cap_ext1.iloc[i,j]])\n",
    "        \n",
    "print(i, cap_ext2.index[0])\n",
    "for j in range(len(datacols)):\n",
    "    cap_ext2.iloc[0,j] = np.max([actprod.iloc[cap_ext2.index[0],j], cap_ext2.iloc[0,j]])\n",
    "    for i in range(1, cap_ext2.shape[0]):\n",
    "        k = cap_ext2.index[0]+i\n",
    "        cap_ext2.iloc[i,j] = np.max([actprod.iloc[k,j], cap_ext2.iloc[i-1,j], cap_ext2.iloc[i,j]])\n",
    "        \n",
    "print(k, cap_ext3.index[-1])\n",
    "for j in range(len(datacols)):\n",
    "    cap_ext3.iloc[0,j] = np.max([actprod.iloc[cap_ext3.index[0],j], cap_ext3.iloc[0,j]])\n",
    "    for i in range(1, cap_ext3.shape[0]):\n",
    "        k = cap_ext3.index[0]+i\n",
    "        cap_ext3.iloc[i,j] = np.max([actprod.iloc[k,j], cap_ext3.iloc[i-1,j], cap_ext3.iloc[i,j]])\n",
    "        \n",
    "for j in range(len(datacols)):\n",
    "    cap_ext4.iloc[0,j] = np.max([actprod.iloc[cap_ext4.index[0],j], cap_ext4.iloc[0,j]])\n",
    "    for i in range(1, cap_ext4.shape[0]):\n",
    "        k = cap_ext4.index[0]+i\n",
    "        cap_ext4.iloc[i,j] = np.max([actprod.iloc[k,j], cap_ext4.iloc[i-1,j], cap_ext4.iloc[i,j]])\n",
    "        \n",
    "for j in range(len(datacols)):\n",
    "    cap_ext5.iloc[0,j] = np.max([actprod.iloc[cap_ext5.index[0],j], cap_ext5.iloc[0,j]])\n",
    "    for i in range(1, cap_ext5.shape[0]):\n",
    "        k = cap_ext5.index[0]+i\n",
    "        cap_ext5.iloc[i,j] = np.max([actprod.iloc[k,j], cap_ext5.iloc[i-1,j], cap_ext5.iloc[i,j]])\n",
    "        \n",
    "for j in range(len(datacols)):\n",
    "    cap_ext6.iloc[0,j] = np.max([actprod.iloc[cap_ext6.index[0],j], cap_ext6.iloc[0,j]])\n",
    "    for i in range(1, cap_ext6.shape[0]):\n",
    "        k = cap_ext6.index[0]+i\n",
    "        cap_ext6.iloc[i,j] = np.max([actprod.iloc[k,j], cap_ext6.iloc[i-1,j], cap_ext6.iloc[i,j]])\n",
    "capext = pd.concat([cap_ext1, cap_ext2, cap_ext3, cap_ext4, cap_ext5, cap_ext6], axis=0)\n",
    "capext.plot()\n",
    "capext.to_csv(DATAPATH+\"/capacity_extended.csv\")"
   ]
  },
  {
   "cell_type": "code",
   "execution_count": 10,
   "metadata": {},
   "outputs": [
    {
     "name": "stdout",
     "output_type": "stream",
     "text": [
      "capex Index(['Biomass[MW]', 'Hydropower[MW]', 'Wind offshore[MW]',\n",
      "       'Wind onshore[MW]', 'Photovoltaics[MW]', 'Other renewable[MW]',\n",
      "       'Nuclear[MW]', 'Fossil brown coal[MW]', 'Fossil hard coal[MW]',\n",
      "       'Fossil gas[MW]', 'Hydro pumped storage[MW]', 'Other conventional[MW]',\n",
      "       'Datetime', 'Weekday', 'Weekclass', 'Year', 'Month', 'Hour',\n",
      "       'Grouped_daytype'],\n",
      "      dtype='object')\n",
      "actprod Index(['Biomass[MWh]', 'Hydropower[MWh]', 'Wind offshore[MWh]',\n",
      "       'Wind onshore[MWh]', 'Photovoltaics[MWh]', 'Other renewable[MWh]',\n",
      "       'Nuclear[MWh]', 'Fossil brown coal[MWh]', 'Fossil hard coal[MWh]',\n",
      "       'Fossil gas[MWh]', 'Hydro pumped storage[MWh]',\n",
      "       'Other conventional[MWh]', 'Datetime', 'Weekday', 'Weekclass', 'Year',\n",
      "       'Month', 'Hour', 'Grouped_daytype'],\n",
      "      dtype='object')\n",
      "(50232, 19) (50232, 19)\n"
     ]
    }
   ],
   "source": [
    "print(\"capex\", capext.columns)\n",
    "print(\"actprod\", actprod.columns)\n",
    "print(capext.shape, actprod.shape)\n",
    "capext.to_csv(DATAPATH+\"/capacity_extended.csv\")"
   ]
  },
  {
   "cell_type": "code",
   "execution_count": 11,
   "metadata": {},
   "outputs": [],
   "source": [
    "normalized_productions = pd.DataFrame([])\n",
    "columns_prod = actprod.columns[0:12]\n",
    "columns_cap = capacity_extended.columns[0:12]\n",
    "columns_prod_dates = actprod.columns[12:]\n",
    "columns_cap_dates = [col for col in capacity_extended.columns if col not in columns_cap]\n",
    "non_plot_elements = ['Datetime', 'Weekday', 'Weekclass', 'Year', 'Month', 'Hour',\n",
    "       'Grouped_daytype']\n",
    "\n",
    "for col in range(12):\n",
    "    normalized_productions[columns_prod[col]] = actprod[columns_prod[col]] / capext[columns_cap[col]][:actprod.shape[0]]\n",
    "normalized_productions.plot(marker='.')    \n",
    "for col in normalized_productions.columns:\n",
    "    for i in range(normalized_productions[col].shape[0]):\n",
    "        if normalized_productions[col][i] > 1:\n",
    "            normalized_productions[col][i] = 1\n",
    "        elif normalized_productions[col][i] < 0:\n",
    "            normalized_productions[col][i] = 0\n",
    "            \n",
    "for col in range(7):\n",
    "    normalized_productions[columns_prod_dates[col]] = actprod[columns_prod_dates[col]]\n",
    "plt.figure()\n",
    "for col in normalized_productions.columns:\n",
    "    if col not in non_plot_elements:\n",
    "        plt.plot(np.linspace(0, normalized_productions.shape[0], normalized_productions.shape[0]), normalized_productions[col])\n",
    "plt.show()\n"
   ]
  },
  {
   "cell_type": "code",
   "execution_count": 25,
   "metadata": {},
   "outputs": [],
   "source": [
    "plt.close('all')"
   ]
  },
  {
   "cell_type": "code",
   "execution_count": 18,
   "metadata": {},
   "outputs": [
    {
     "name": "stdout",
     "output_type": "stream",
     "text": [
      "Index(['Biomass[MW]', 'Hydropower[MW]', 'Wind offshore[MW]',\n",
      "       'Wind onshore[MW]', 'Photovoltaics[MW]', 'Other renewable[MW]',\n",
      "       'Nuclear[MW]', 'Fossil brown coal[MW]', 'Fossil hard coal[MW]',\n",
      "       'Fossil gas[MW]', 'Hydro pumped storage[MW]', 'Other conventional[MW]'],\n",
      "      dtype='object')\n"
     ]
    }
   ],
   "source": [
    "print(columns_cap)\n",
    "cols = ['Biomass', 'Hydropower','Wind offshore','Wind onshore','Photovoltaics','Other renewable','Nuclear','Fossil brown coal','Fossil hard coal','Fossil gas','Hydro pumped storage','Other conventional']\n",
    "for col in cols:\n",
    "\n",
    "    plt.figure()\n",
    "    t=np.linspace(0, actprod.shape[0], actprod.shape[0])\n",
    "    plt.plot(t, actprod[col+'[MWh]'], np.linspace(0,capext.shape[0],capext.shape[0]), capext[col+'[MW]'])\n",
    "    plt.title(col)\n",
    "    plt.show()"
   ]
  },
  {
   "cell_type": "code",
   "execution_count": 14,
   "metadata": {},
   "outputs": [
    {
     "data": {
      "text/html": [
       "<div>\n",
       "<style scoped>\n",
       "    .dataframe tbody tr th:only-of-type {\n",
       "        vertical-align: middle;\n",
       "    }\n",
       "\n",
       "    .dataframe tbody tr th {\n",
       "        vertical-align: top;\n",
       "    }\n",
       "\n",
       "    .dataframe thead th {\n",
       "        text-align: right;\n",
       "    }\n",
       "</style>\n",
       "<table border=\"1\" class=\"dataframe\">\n",
       "  <thead>\n",
       "    <tr style=\"text-align: right;\">\n",
       "      <th></th>\n",
       "      <th>Biomass[MW]</th>\n",
       "      <th>Hydropower[MW]</th>\n",
       "      <th>Wind offshore[MW]</th>\n",
       "      <th>Wind onshore[MW]</th>\n",
       "      <th>Photovoltaics[MW]</th>\n",
       "      <th>Other renewable[MW]</th>\n",
       "      <th>Nuclear[MW]</th>\n",
       "      <th>Fossil brown coal[MW]</th>\n",
       "      <th>Fossil hard coal[MW]</th>\n",
       "      <th>Fossil gas[MW]</th>\n",
       "      <th>Hydro pumped storage[MW]</th>\n",
       "      <th>Other conventional[MW]</th>\n",
       "      <th>Datetime</th>\n",
       "      <th>Weekday</th>\n",
       "      <th>Weekclass</th>\n",
       "      <th>Year</th>\n",
       "      <th>Month</th>\n",
       "      <th>Hour</th>\n",
       "      <th>Grouped_daytype</th>\n",
       "    </tr>\n",
       "  </thead>\n",
       "  <tbody>\n",
       "    <tr>\n",
       "      <th>max</th>\n",
       "      <td>7987.000000</td>\n",
       "      <td>5514.0</td>\n",
       "      <td>7504.000000</td>\n",
       "      <td>53184.000000</td>\n",
       "      <td>48206.000000</td>\n",
       "      <td>550.000000</td>\n",
       "      <td>12068.000000</td>\n",
       "      <td>21275.000000</td>\n",
       "      <td>27437.000000</td>\n",
       "      <td>32627.0</td>\n",
       "      <td>9422.0</td>\n",
       "      <td>7720.000000</td>\n",
       "      <td>2020-01-01 00:00:00</td>\n",
       "      <td>Wed</td>\n",
       "      <td>7.0</td>\n",
       "      <td>2020.0</td>\n",
       "      <td>1.0</td>\n",
       "      <td>0.0</td>\n",
       "      <td>Holiday</td>\n",
       "    </tr>\n",
       "    <tr>\n",
       "      <th>mean</th>\n",
       "      <td>7306.333333</td>\n",
       "      <td>5386.0</td>\n",
       "      <td>4559.166667</td>\n",
       "      <td>47253.333333</td>\n",
       "      <td>42183.333333</td>\n",
       "      <td>508.833333</td>\n",
       "      <td>10133.333333</td>\n",
       "      <td>21171.833333</td>\n",
       "      <td>25446.166667</td>\n",
       "      <td>31916.0</td>\n",
       "      <td>9009.0</td>\n",
       "      <td>7496.166667</td>\n",
       "      <td>NaN</td>\n",
       "      <td>NaN</td>\n",
       "      <td>7.0</td>\n",
       "      <td>2017.5</td>\n",
       "      <td>1.0</td>\n",
       "      <td>0.0</td>\n",
       "      <td>NaN</td>\n",
       "    </tr>\n",
       "    <tr>\n",
       "      <th>median</th>\n",
       "      <td>7238.000000</td>\n",
       "      <td>5373.0</td>\n",
       "      <td>4591.000000</td>\n",
       "      <td>49337.500000</td>\n",
       "      <td>41819.000000</td>\n",
       "      <td>510.500000</td>\n",
       "      <td>10154.500000</td>\n",
       "      <td>21182.500000</td>\n",
       "      <td>25741.500000</td>\n",
       "      <td>31723.0</td>\n",
       "      <td>8906.0</td>\n",
       "      <td>7506.500000</td>\n",
       "      <td>NaN</td>\n",
       "      <td>NaN</td>\n",
       "      <td>7.0</td>\n",
       "      <td>2017.5</td>\n",
       "      <td>1.0</td>\n",
       "      <td>0.0</td>\n",
       "      <td>NaN</td>\n",
       "    </tr>\n",
       "    <tr>\n",
       "      <th>min</th>\n",
       "      <td>6808.000000</td>\n",
       "      <td>5268.0</td>\n",
       "      <td>993.000000</td>\n",
       "      <td>37701.000000</td>\n",
       "      <td>37271.000000</td>\n",
       "      <td>454.000000</td>\n",
       "      <td>8114.000000</td>\n",
       "      <td>21062.000000</td>\n",
       "      <td>22458.000000</td>\n",
       "      <td>31361.0</td>\n",
       "      <td>8699.0</td>\n",
       "      <td>7277.000000</td>\n",
       "      <td>2015-01-01 00:00:00</td>\n",
       "      <td>Fri</td>\n",
       "      <td>7.0</td>\n",
       "      <td>2015.0</td>\n",
       "      <td>1.0</td>\n",
       "      <td>0.0</td>\n",
       "      <td>Holiday</td>\n",
       "    </tr>\n",
       "  </tbody>\n",
       "</table>\n",
       "</div>"
      ],
      "text/plain": [
       "        Biomass[MW]  Hydropower[MW]  Wind offshore[MW]  Wind onshore[MW]  \\\n",
       "max     7987.000000          5514.0        7504.000000      53184.000000   \n",
       "mean    7306.333333          5386.0        4559.166667      47253.333333   \n",
       "median  7238.000000          5373.0        4591.000000      49337.500000   \n",
       "min     6808.000000          5268.0         993.000000      37701.000000   \n",
       "\n",
       "        Photovoltaics[MW]  Other renewable[MW]   Nuclear[MW]  \\\n",
       "max          48206.000000           550.000000  12068.000000   \n",
       "mean         42183.333333           508.833333  10133.333333   \n",
       "median       41819.000000           510.500000  10154.500000   \n",
       "min          37271.000000           454.000000   8114.000000   \n",
       "\n",
       "        Fossil brown coal[MW]  Fossil hard coal[MW]  Fossil gas[MW]  \\\n",
       "max              21275.000000          27437.000000         32627.0   \n",
       "mean             21171.833333          25446.166667         31916.0   \n",
       "median           21182.500000          25741.500000         31723.0   \n",
       "min              21062.000000          22458.000000         31361.0   \n",
       "\n",
       "        Hydro pumped storage[MW]  Other conventional[MW]             Datetime  \\\n",
       "max                       9422.0             7720.000000  2020-01-01 00:00:00   \n",
       "mean                      9009.0             7496.166667                  NaN   \n",
       "median                    8906.0             7506.500000                  NaN   \n",
       "min                       8699.0             7277.000000  2015-01-01 00:00:00   \n",
       "\n",
       "       Weekday  Weekclass    Year  Month  Hour Grouped_daytype  \n",
       "max        Wed        7.0  2020.0    1.0   0.0         Holiday  \n",
       "mean       NaN        7.0  2017.5    1.0   0.0             NaN  \n",
       "median     NaN        7.0  2017.5    1.0   0.0             NaN  \n",
       "min        Fri        7.0  2015.0    1.0   0.0         Holiday  "
      ]
     },
     "execution_count": 14,
     "metadata": {},
     "output_type": "execute_result"
    }
   ],
   "source": [
    "desc2 = {}\n",
    "for col in capacity_extended.columns:\n",
    "    desc2[col] = ['mean','median','min','max']\n",
    "capacity_extended.agg(desc2)"
   ]
  },
  {
   "cell_type": "code",
   "execution_count": 15,
   "metadata": {},
   "outputs": [
    {
     "name": "stdout",
     "output_type": "stream",
     "text": [
      "(50232, 8) (50232, 19)\n"
     ]
    }
   ],
   "source": [
    "#print(daprice_germany.shape, actprod_4res.shape)\n",
    "print(daprice_germany_new.shape, normalized_productions.shape)"
   ]
  },
  {
   "cell_type": "code",
   "execution_count": 20,
   "metadata": {},
   "outputs": [
    {
     "ename": "TypeError",
     "evalue": "boxplot() got an unexpected keyword argument 'y'",
     "output_type": "error",
     "traceback": [
      "\u001b[1;31m---------------------------------------------------------------------------\u001b[0m",
      "\u001b[1;31mTypeError\u001b[0m                                 Traceback (most recent call last)",
      "\u001b[1;32m<ipython-input-20-cb6209ab3bde>\u001b[0m in \u001b[0;36m<module>\u001b[1;34m\u001b[0m\n\u001b[0;32m      3\u001b[0m \u001b[1;32mfor\u001b[0m \u001b[0mitem\u001b[0m \u001b[1;32min\u001b[0m \u001b[0mnormcolumns\u001b[0m\u001b[1;33m:\u001b[0m\u001b[1;31m#actprod_4res.columns:\u001b[0m\u001b[1;33m\u001b[0m\u001b[1;33m\u001b[0m\u001b[0m\n\u001b[0;32m      4\u001b[0m     \u001b[0mplt\u001b[0m\u001b[1;33m.\u001b[0m\u001b[0mfigure\u001b[0m\u001b[1;33m(\u001b[0m\u001b[0mnum\u001b[0m\u001b[1;33m)\u001b[0m\u001b[1;33m\u001b[0m\u001b[1;33m\u001b[0m\u001b[0m\n\u001b[1;32m----> 5\u001b[1;33m     \u001b[0mplt\u001b[0m\u001b[1;33m.\u001b[0m\u001b[0mboxplot\u001b[0m\u001b[1;33m(\u001b[0m\u001b[0my\u001b[0m\u001b[1;33m=\u001b[0m\u001b[0mdaprice_germany_new\u001b[0m\u001b[1;33m[\u001b[0m\u001b[1;34m'Price'\u001b[0m\u001b[1;33m]\u001b[0m\u001b[1;33m,\u001b[0m \u001b[0mx\u001b[0m\u001b[1;33m=\u001b[0m\u001b[0mnormalized_productions\u001b[0m\u001b[1;33m[\u001b[0m\u001b[0mitem\u001b[0m\u001b[1;33m]\u001b[0m\u001b[1;33m,\u001b[0m \u001b[0mmarker\u001b[0m\u001b[1;33m=\u001b[0m\u001b[1;34m'.'\u001b[0m\u001b[1;33m)\u001b[0m\u001b[1;31m#x=actprod_4res[item], marker='.')\u001b[0m\u001b[1;33m\u001b[0m\u001b[1;33m\u001b[0m\u001b[0m\n\u001b[0m\u001b[0;32m      6\u001b[0m     \u001b[0mplt\u001b[0m\u001b[1;33m.\u001b[0m\u001b[0mxlabel\u001b[0m\u001b[1;33m(\u001b[0m\u001b[0mitem\u001b[0m\u001b[1;33m)\u001b[0m\u001b[1;33m\u001b[0m\u001b[1;33m\u001b[0m\u001b[0m\n\u001b[0;32m      7\u001b[0m     \u001b[0mplt\u001b[0m\u001b[1;33m.\u001b[0m\u001b[0mylabel\u001b[0m\u001b[1;33m(\u001b[0m\u001b[1;34m'Price'\u001b[0m\u001b[1;33m)\u001b[0m\u001b[1;33m\u001b[0m\u001b[1;33m\u001b[0m\u001b[0m\n",
      "\u001b[1;31mTypeError\u001b[0m: boxplot() got an unexpected keyword argument 'y'"
     ]
    }
   ],
   "source": [
    "num = 0\n",
    "normcolumns = [col for col in normalized_productions.columns if not 'Date' in col]\n",
    "for item in normcolumns:#actprod_4res.columns:\n",
    "    plt.figure(num)\n",
    "    plt.scatter(y=daprice_germany_new['Price'], x=normalized_productions[item], marker='.')#x=actprod_4res[item], marker='.')\n",
    "    plt.xlabel(item)\n",
    "    plt.ylabel('Price')\n",
    "    num+=1\n"
   ]
  },
  {
   "cell_type": "code",
   "execution_count": null,
   "metadata": {},
   "outputs": [],
   "source": [
    "plt.boxplot()"
   ]
  },
  {
   "cell_type": "code",
   "execution_count": 27,
   "metadata": {},
   "outputs": [
    {
     "ename": "TypeError",
     "evalue": "unsupported operand type(s) for /: 'str' and 'int'",
     "output_type": "error",
     "traceback": [
      "\u001b[1;31m---------------------------------------------------------------------------\u001b[0m",
      "\u001b[1;31mTypeError\u001b[0m                                 Traceback (most recent call last)",
      "\u001b[1;32m<ipython-input-27-56dfdc9497ad>\u001b[0m in \u001b[0;36m<module>\u001b[1;34m\u001b[0m\n\u001b[0;32m      3\u001b[0m \u001b[1;32mfor\u001b[0m \u001b[0mitem\u001b[0m \u001b[1;32min\u001b[0m \u001b[0mnormcolumns\u001b[0m\u001b[1;33m:\u001b[0m\u001b[1;31m#actprod_4res.columns:\u001b[0m\u001b[1;33m\u001b[0m\u001b[1;33m\u001b[0m\u001b[0m\n\u001b[0;32m      4\u001b[0m     \u001b[0mplt\u001b[0m\u001b[1;33m.\u001b[0m\u001b[0mfigure\u001b[0m\u001b[1;33m(\u001b[0m\u001b[0mnum\u001b[0m\u001b[1;33m)\u001b[0m\u001b[1;33m\u001b[0m\u001b[1;33m\u001b[0m\u001b[0m\n\u001b[1;32m----> 5\u001b[1;33m     \u001b[0mplt\u001b[0m\u001b[1;33m.\u001b[0m\u001b[0mboxplot\u001b[0m\u001b[1;33m(\u001b[0m\u001b[0mx\u001b[0m\u001b[1;33m=\u001b[0m\u001b[0mactprod\u001b[0m\u001b[1;33m[\u001b[0m\u001b[0mitem\u001b[0m\u001b[1;33m]\u001b[0m\u001b[1;33m)\u001b[0m\u001b[1;31m#x=actprod_4res[item], marker='.')\u001b[0m\u001b[1;33m\u001b[0m\u001b[1;33m\u001b[0m\u001b[0m\n\u001b[0m\u001b[0;32m      6\u001b[0m     \u001b[0mplt\u001b[0m\u001b[1;33m.\u001b[0m\u001b[0mxlabel\u001b[0m\u001b[1;33m(\u001b[0m\u001b[0mitem\u001b[0m\u001b[1;33m)\u001b[0m\u001b[1;33m\u001b[0m\u001b[1;33m\u001b[0m\u001b[0m\n\u001b[0;32m      7\u001b[0m     \u001b[0mnum\u001b[0m\u001b[1;33m+=\u001b[0m\u001b[1;36m1\u001b[0m\u001b[1;33m\u001b[0m\u001b[1;33m\u001b[0m\u001b[0m\n",
      "\u001b[1;32mH:\\Program\\Anaconda\\envs\\Finstat\\lib\\site-packages\\matplotlib\\pyplot.py\u001b[0m in \u001b[0;36mboxplot\u001b[1;34m(x, notch, sym, vert, whis, positions, widths, patch_artist, bootstrap, usermedians, conf_intervals, meanline, showmeans, showcaps, showbox, showfliers, boxprops, labels, flierprops, medianprops, meanprops, capprops, whiskerprops, manage_ticks, autorange, zorder, data)\u001b[0m\n\u001b[0;32m   2477\u001b[0m         \u001b[0mwhiskerprops\u001b[0m\u001b[1;33m=\u001b[0m\u001b[0mwhiskerprops\u001b[0m\u001b[1;33m,\u001b[0m \u001b[0mmanage_ticks\u001b[0m\u001b[1;33m=\u001b[0m\u001b[0mmanage_ticks\u001b[0m\u001b[1;33m,\u001b[0m\u001b[1;33m\u001b[0m\u001b[1;33m\u001b[0m\u001b[0m\n\u001b[0;32m   2478\u001b[0m         autorange=autorange, zorder=zorder, **({\"data\": data} if data\n\u001b[1;32m-> 2479\u001b[1;33m         is not None else {}))\n\u001b[0m\u001b[0;32m   2480\u001b[0m \u001b[1;33m\u001b[0m\u001b[0m\n\u001b[0;32m   2481\u001b[0m \u001b[1;33m\u001b[0m\u001b[0m\n",
      "\u001b[1;32mH:\\Program\\Anaconda\\envs\\Finstat\\lib\\site-packages\\matplotlib\\cbook\\deprecation.py\u001b[0m in \u001b[0;36mwrapper\u001b[1;34m(*args, **kwargs)\u001b[0m\n\u001b[0;32m    305\u001b[0m                 f\"for the old name will be dropped %(removal)s.\")\n\u001b[0;32m    306\u001b[0m             \u001b[0mkwargs\u001b[0m\u001b[1;33m[\u001b[0m\u001b[0mnew\u001b[0m\u001b[1;33m]\u001b[0m \u001b[1;33m=\u001b[0m \u001b[0mkwargs\u001b[0m\u001b[1;33m.\u001b[0m\u001b[0mpop\u001b[0m\u001b[1;33m(\u001b[0m\u001b[0mold\u001b[0m\u001b[1;33m)\u001b[0m\u001b[1;33m\u001b[0m\u001b[1;33m\u001b[0m\u001b[0m\n\u001b[1;32m--> 307\u001b[1;33m         \u001b[1;32mreturn\u001b[0m \u001b[0mfunc\u001b[0m\u001b[1;33m(\u001b[0m\u001b[1;33m*\u001b[0m\u001b[0margs\u001b[0m\u001b[1;33m,\u001b[0m \u001b[1;33m**\u001b[0m\u001b[0mkwargs\u001b[0m\u001b[1;33m)\u001b[0m\u001b[1;33m\u001b[0m\u001b[1;33m\u001b[0m\u001b[0m\n\u001b[0m\u001b[0;32m    308\u001b[0m \u001b[1;33m\u001b[0m\u001b[0m\n\u001b[0;32m    309\u001b[0m     \u001b[1;31m# wrapper() must keep the same documented signature as func(): if we\u001b[0m\u001b[1;33m\u001b[0m\u001b[1;33m\u001b[0m\u001b[1;33m\u001b[0m\u001b[0m\n",
      "\u001b[1;32mH:\\Program\\Anaconda\\envs\\Finstat\\lib\\site-packages\\matplotlib\\__init__.py\u001b[0m in \u001b[0;36minner\u001b[1;34m(ax, data, *args, **kwargs)\u001b[0m\n\u001b[0;32m   1599\u001b[0m     \u001b[1;32mdef\u001b[0m \u001b[0minner\u001b[0m\u001b[1;33m(\u001b[0m\u001b[0max\u001b[0m\u001b[1;33m,\u001b[0m \u001b[1;33m*\u001b[0m\u001b[0margs\u001b[0m\u001b[1;33m,\u001b[0m \u001b[0mdata\u001b[0m\u001b[1;33m=\u001b[0m\u001b[1;32mNone\u001b[0m\u001b[1;33m,\u001b[0m \u001b[1;33m**\u001b[0m\u001b[0mkwargs\u001b[0m\u001b[1;33m)\u001b[0m\u001b[1;33m:\u001b[0m\u001b[1;33m\u001b[0m\u001b[1;33m\u001b[0m\u001b[0m\n\u001b[0;32m   1600\u001b[0m         \u001b[1;32mif\u001b[0m \u001b[0mdata\u001b[0m \u001b[1;32mis\u001b[0m \u001b[1;32mNone\u001b[0m\u001b[1;33m:\u001b[0m\u001b[1;33m\u001b[0m\u001b[1;33m\u001b[0m\u001b[0m\n\u001b[1;32m-> 1601\u001b[1;33m             \u001b[1;32mreturn\u001b[0m \u001b[0mfunc\u001b[0m\u001b[1;33m(\u001b[0m\u001b[0max\u001b[0m\u001b[1;33m,\u001b[0m \u001b[1;33m*\u001b[0m\u001b[0mmap\u001b[0m\u001b[1;33m(\u001b[0m\u001b[0msanitize_sequence\u001b[0m\u001b[1;33m,\u001b[0m \u001b[0margs\u001b[0m\u001b[1;33m)\u001b[0m\u001b[1;33m,\u001b[0m \u001b[1;33m**\u001b[0m\u001b[0mkwargs\u001b[0m\u001b[1;33m)\u001b[0m\u001b[1;33m\u001b[0m\u001b[1;33m\u001b[0m\u001b[0m\n\u001b[0m\u001b[0;32m   1602\u001b[0m \u001b[1;33m\u001b[0m\u001b[0m\n\u001b[0;32m   1603\u001b[0m         \u001b[0mbound\u001b[0m \u001b[1;33m=\u001b[0m \u001b[0mnew_sig\u001b[0m\u001b[1;33m.\u001b[0m\u001b[0mbind\u001b[0m\u001b[1;33m(\u001b[0m\u001b[0max\u001b[0m\u001b[1;33m,\u001b[0m \u001b[1;33m*\u001b[0m\u001b[0margs\u001b[0m\u001b[1;33m,\u001b[0m \u001b[1;33m**\u001b[0m\u001b[0mkwargs\u001b[0m\u001b[1;33m)\u001b[0m\u001b[1;33m\u001b[0m\u001b[1;33m\u001b[0m\u001b[0m\n",
      "\u001b[1;32mH:\\Program\\Anaconda\\envs\\Finstat\\lib\\site-packages\\matplotlib\\axes\\_axes.py\u001b[0m in \u001b[0;36mboxplot\u001b[1;34m(self, x, notch, sym, vert, whis, positions, widths, patch_artist, bootstrap, usermedians, conf_intervals, meanline, showmeans, showcaps, showbox, showfliers, boxprops, labels, flierprops, medianprops, meanprops, capprops, whiskerprops, manage_ticks, autorange, zorder)\u001b[0m\n\u001b[0;32m   3668\u001b[0m \u001b[1;33m\u001b[0m\u001b[0m\n\u001b[0;32m   3669\u001b[0m         bxpstats = cbook.boxplot_stats(x, whis=whis, bootstrap=bootstrap,\n\u001b[1;32m-> 3670\u001b[1;33m                                        labels=labels, autorange=autorange)\n\u001b[0m\u001b[0;32m   3671\u001b[0m         \u001b[1;32mif\u001b[0m \u001b[0mnotch\u001b[0m \u001b[1;32mis\u001b[0m \u001b[1;32mNone\u001b[0m\u001b[1;33m:\u001b[0m\u001b[1;33m\u001b[0m\u001b[1;33m\u001b[0m\u001b[0m\n\u001b[0;32m   3672\u001b[0m             \u001b[0mnotch\u001b[0m \u001b[1;33m=\u001b[0m \u001b[0mrcParams\u001b[0m\u001b[1;33m[\u001b[0m\u001b[1;34m'boxplot.notch'\u001b[0m\u001b[1;33m]\u001b[0m\u001b[1;33m\u001b[0m\u001b[1;33m\u001b[0m\u001b[0m\n",
      "\u001b[1;32mH:\\Program\\Anaconda\\envs\\Finstat\\lib\\site-packages\\matplotlib\\cbook\\__init__.py\u001b[0m in \u001b[0;36mboxplot_stats\u001b[1;34m(X, whis, bootstrap, labels, autorange)\u001b[0m\n\u001b[0;32m   1283\u001b[0m \u001b[1;33m\u001b[0m\u001b[0m\n\u001b[0;32m   1284\u001b[0m         \u001b[1;31m# arithmetic mean\u001b[0m\u001b[1;33m\u001b[0m\u001b[1;33m\u001b[0m\u001b[1;33m\u001b[0m\u001b[0m\n\u001b[1;32m-> 1285\u001b[1;33m         \u001b[0mstats\u001b[0m\u001b[1;33m[\u001b[0m\u001b[1;34m'mean'\u001b[0m\u001b[1;33m]\u001b[0m \u001b[1;33m=\u001b[0m \u001b[0mnp\u001b[0m\u001b[1;33m.\u001b[0m\u001b[0mmean\u001b[0m\u001b[1;33m(\u001b[0m\u001b[0mx\u001b[0m\u001b[1;33m)\u001b[0m\u001b[1;33m\u001b[0m\u001b[1;33m\u001b[0m\u001b[0m\n\u001b[0m\u001b[0;32m   1286\u001b[0m \u001b[1;33m\u001b[0m\u001b[0m\n\u001b[0;32m   1287\u001b[0m         \u001b[1;31m# medians and quartiles\u001b[0m\u001b[1;33m\u001b[0m\u001b[1;33m\u001b[0m\u001b[1;33m\u001b[0m\u001b[0m\n",
      "\u001b[1;32m<__array_function__ internals>\u001b[0m in \u001b[0;36mmean\u001b[1;34m(*args, **kwargs)\u001b[0m\n",
      "\u001b[1;32mH:\\Program\\Anaconda\\envs\\Finstat\\lib\\site-packages\\numpy\\core\\fromnumeric.py\u001b[0m in \u001b[0;36mmean\u001b[1;34m(a, axis, dtype, out, keepdims)\u001b[0m\n\u001b[0;32m   3255\u001b[0m \u001b[1;33m\u001b[0m\u001b[0m\n\u001b[0;32m   3256\u001b[0m     return _methods._mean(a, axis=axis, dtype=dtype,\n\u001b[1;32m-> 3257\u001b[1;33m                           out=out, **kwargs)\n\u001b[0m\u001b[0;32m   3258\u001b[0m \u001b[1;33m\u001b[0m\u001b[0m\n\u001b[0;32m   3259\u001b[0m \u001b[1;33m\u001b[0m\u001b[0m\n",
      "\u001b[1;32mH:\\Program\\Anaconda\\envs\\Finstat\\lib\\site-packages\\numpy\\core\\_methods.py\u001b[0m in \u001b[0;36m_mean\u001b[1;34m(a, axis, dtype, out, keepdims)\u001b[0m\n\u001b[0;32m    161\u001b[0m             \u001b[0mret\u001b[0m \u001b[1;33m=\u001b[0m \u001b[0mret\u001b[0m\u001b[1;33m.\u001b[0m\u001b[0mdtype\u001b[0m\u001b[1;33m.\u001b[0m\u001b[0mtype\u001b[0m\u001b[1;33m(\u001b[0m\u001b[0mret\u001b[0m \u001b[1;33m/\u001b[0m \u001b[0mrcount\u001b[0m\u001b[1;33m)\u001b[0m\u001b[1;33m\u001b[0m\u001b[1;33m\u001b[0m\u001b[0m\n\u001b[0;32m    162\u001b[0m     \u001b[1;32melse\u001b[0m\u001b[1;33m:\u001b[0m\u001b[1;33m\u001b[0m\u001b[1;33m\u001b[0m\u001b[0m\n\u001b[1;32m--> 163\u001b[1;33m         \u001b[0mret\u001b[0m \u001b[1;33m=\u001b[0m \u001b[0mret\u001b[0m \u001b[1;33m/\u001b[0m \u001b[0mrcount\u001b[0m\u001b[1;33m\u001b[0m\u001b[1;33m\u001b[0m\u001b[0m\n\u001b[0m\u001b[0;32m    164\u001b[0m \u001b[1;33m\u001b[0m\u001b[0m\n\u001b[0;32m    165\u001b[0m     \u001b[1;32mreturn\u001b[0m \u001b[0mret\u001b[0m\u001b[1;33m\u001b[0m\u001b[1;33m\u001b[0m\u001b[0m\n",
      "\u001b[1;31mTypeError\u001b[0m: unsupported operand type(s) for /: 'str' and 'int'"
     ]
    }
   ],
   "source": [
    "num = 0\n",
    "normcolumns = [col for col in normalized_productions.columns if not 'Date' in col]\n",
    "for item in normcolumns:#actprod_4res.columns:\n",
    "    plt.figure(num)\n",
    "    plt.boxplot(x=actprod[item])#x=actprod_4res[item], marker='.')\n",
    "    plt.xlabel(item)\n",
    "    num+=1\n"
   ]
  },
  {
   "cell_type": "code",
   "execution_count": 16,
   "metadata": {},
   "outputs": [
    {
     "data": {
      "text/plain": [
       "<matplotlib.axes._subplots.AxesSubplot at 0x16c03189d48>"
      ]
     },
     "execution_count": 16,
     "metadata": {},
     "output_type": "execute_result"
    }
   ],
   "source": [
    "delta_ph = pd.DataFrame()\n",
    "delta_ph['delta Price'] = daprice_germany_new['Price'].diff(24)\n",
    "timelist = ['Hour', 'Datetime', 'Month','Year','Weekclass','Weekday','Grouped_daytype']\n",
    "for timeitem in timelist:\n",
    "    delta_ph[timeitem] = day_ahead_prices[timeitem]\n",
    "delta_ph = delta_ph.iloc[24+120:,:]\n",
    "delta_ph.plot(x='Datetime', y='delta Price')"
   ]
  },
  {
   "cell_type": "code",
   "execution_count": 17,
   "metadata": {},
   "outputs": [
    {
     "data": {
      "text/plain": [
       "<matplotlib.axes._subplots.AxesSubplot at 0x16c035ee488>"
      ]
     },
     "execution_count": 17,
     "metadata": {},
     "output_type": "execute_result"
    }
   ],
   "source": [
    "delta_ph.plot(x='Datetime', y='delta Price')"
   ]
  },
  {
   "cell_type": "code",
   "execution_count": 18,
   "metadata": {},
   "outputs": [
    {
     "data": {
      "text/plain": [
       "Index(['Germany/Luxembourg[€/MWh]', 'Denmark 1[€/MWh]', 'Denmark 2[€/MWh]',\n",
       "       'France[€/MWh]', 'Northern Italy[€/MWh]', 'Netherlands[€/MWh]',\n",
       "       'Poland[€/MWh]', 'Sweden 4[€/MWh]', 'Switzerland[€/MWh]',\n",
       "       'Slovenia[€/MWh]', 'Czech Republic[€/MWh]', 'Hungary[€/MWh]',\n",
       "       'Austria[€/MWh]', 'Germany/Austria/Luxembourg[€/MWh]', 'Datetime',\n",
       "       'Weekday', 'Weekclass', 'Year', 'Month', 'Hour', 'Grouped_daytype'],\n",
       "      dtype='object')"
      ]
     },
     "execution_count": 18,
     "metadata": {},
     "output_type": "execute_result"
    }
   ],
   "source": [
    "testdf = day_ahead_prices.copy()\n",
    "testdf.columns"
   ]
  },
  {
   "cell_type": "code",
   "execution_count": 19,
   "metadata": {},
   "outputs": [
    {
     "data": {
      "text/plain": [
       "Germany/Luxembourg[€/MWh]             621035.220\n",
       "Germany/Austria/Luxembourg[€/MWh]    1103357.825\n",
       "dtype: float64"
      ]
     },
     "execution_count": 19,
     "metadata": {},
     "output_type": "execute_result"
    }
   ],
   "source": [
    "testdf = day_ahead_prices.iloc[:,[0,13]]\n",
    "testdf.shape\n",
    "testdf.fillna(0)\n",
    "testdf.sum(axis=0)"
   ]
  },
  {
   "cell_type": "code",
   "execution_count": 20,
   "metadata": {},
   "outputs": [
    {
     "name": "stdout",
     "output_type": "stream",
     "text": [
      "nunique 50232  total (50232,)\n"
     ]
    }
   ],
   "source": [
    "print('nunique', day_ahead_prices['Datetime'].nunique(),' total', day_ahead_prices['Datetime'].shape)"
   ]
  },
  {
   "cell_type": "code",
   "execution_count": 21,
   "metadata": {},
   "outputs": [
    {
     "name": "stderr",
     "output_type": "stream",
     "text": [
      "H:\\Program\\Anaconda\\envs\\Finstat\\lib\\site-packages\\pandas\\plotting\\_matplotlib\\core.py:338: RuntimeWarning: More than 20 figures have been opened. Figures created through the pyplot interface (`matplotlib.pyplot.figure`) are retained until explicitly closed and may consume too much memory. (To control this warning, see the rcParam `figure.max_open_warning`).\n",
      "  fig = self.plt.figure(figsize=self.figsize)\n"
     ]
    },
    {
     "data": {
      "text/plain": [
       "<matplotlib.axes._subplots.AxesSubplot at 0x16c0320eec8>"
      ]
     },
     "execution_count": 21,
     "metadata": {},
     "output_type": "execute_result"
    }
   ],
   "source": [
    "delta_solar = pd.DataFrame()\n",
    "delta_solar['delta gen GWh'] = (actprod['Photovoltaics[MWh]']/1000).diff(24)\n",
    "timelist = ['Hour', 'Datetime', 'Month','Year','Weekclass','Weekday','Grouped_daytype']\n",
    "for timeitem in timelist:\n",
    "    delta_solar[timeitem] = actprod[timeitem]\n",
    "delta_solar = delta_solar.iloc[24+120:, :]\n",
    "delta_solar.plot(x='Datetime', y='delta gen GWh')"
   ]
  },
  {
   "cell_type": "code",
   "execution_count": 22,
   "metadata": {},
   "outputs": [
    {
     "name": "stdout",
     "output_type": "stream",
     "text": [
      "(50088, 8)\n"
     ]
    }
   ],
   "source": [
    "delta_wind = pd.DataFrame()\n",
    "delta_wind['delta gen GWh'] = ((actprod['Wind onshore[MWh]']+actprod['Wind offshore[MWh]'])/1000).diff(24)\n",
    "timelist = ['Hour', 'Datetime', 'Month','Year','Weekclass','Weekday','Grouped_daytype']\n",
    "for timeitem in timelist:\n",
    "    delta_wind[timeitem] = actprod[timeitem]\n",
    "delta_wind = delta_wind.iloc[24+120:,:]\n",
    "delta_wind.plot(x='Datetime', y='delta gen GWh')\n",
    "print(delta_wind.shape)"
   ]
  },
  {
   "cell_type": "code",
   "execution_count": 23,
   "metadata": {},
   "outputs": [
    {
     "data": {
      "text/plain": [
       "Index(['Biomass[MW]', 'Hydropower[MW]', 'Wind offshore[MW]',\n",
       "       'Wind onshore[MW]', 'Photovoltaics[MW]', 'Other renewable[MW]',\n",
       "       'Nuclear[MW]', 'Fossil brown coal[MW]', 'Fossil hard coal[MW]',\n",
       "       'Fossil gas[MW]', 'Hydro pumped storage[MW]', 'Other conventional[MW]',\n",
       "       'Datetime', 'Weekday', 'Weekclass', 'Year', 'Month', 'Hour',\n",
       "       'Grouped_daytype'],\n",
       "      dtype='object')"
      ]
     },
     "execution_count": 23,
     "metadata": {},
     "output_type": "execute_result"
    }
   ],
   "source": [
    "capacity_extended.columns"
   ]
  },
  {
   "cell_type": "code",
   "execution_count": 24,
   "metadata": {},
   "outputs": [
    {
     "name": "stderr",
     "output_type": "stream",
     "text": [
      "H:\\Program\\Anaconda\\envs\\Finstat\\lib\\site-packages\\ipykernel_launcher.py:4: RuntimeWarning: More than 20 figures have been opened. Figures created through the pyplot interface (`matplotlib.pyplot.figure`) are retained until explicitly closed and may consume too much memory. (To control this warning, see the rcParam `figure.max_open_warning`).\n",
      "  after removing the cwd from sys.path.\n"
     ]
    }
   ],
   "source": [
    "plotelements = [delta_wind['delta gen GWh'], delta_solar['delta gen GWh'], daprice_germany_new['Price'][120:-24]]\n",
    "plottext = ['delta_wind', 'delta_solar', 'price_h-24']\n",
    "for i in range(3):\n",
    "    plt.figure()\n",
    "    plt.scatter(x=plotelements[i], y=delta_ph['delta Price'])\n",
    "    plt.xlabel(plottext[i])\n",
    "    plt.ylabel('Delta price')"
   ]
  },
  {
   "cell_type": "code",
   "execution_count": 25,
   "metadata": {},
   "outputs": [],
   "source": [
    "Ph = daprice_germany_new.iloc[120:-24,:]\n"
   ]
  },
  {
   "cell_type": "code",
   "execution_count": 26,
   "metadata": {},
   "outputs": [
    {
     "name": "stdout",
     "output_type": "stream",
     "text": [
      "(50088,)\n",
      "(49944,)\n",
      "(49944,)\n",
      "(49944,)\n"
     ]
    }
   ],
   "source": [
    "print(daprice_germany_new['Price'][120:-24].shape)\n",
    "print(delta_solar['delta gen GWh'][24+120:].shape)\n",
    "print(delta_wind['delta gen GWh'][24+120:].shape)\n",
    "print(delta_ph['delta Price'][24+120:].shape)"
   ]
  },
  {
   "cell_type": "code",
   "execution_count": 27,
   "metadata": {},
   "outputs": [
    {
     "data": {
      "text/plain": [
       "(3,)"
      ]
     },
     "execution_count": 27,
     "metadata": {},
     "output_type": "execute_result"
    }
   ],
   "source": [
    "np.array([daprice_germany_new['Price'][120:-24].to_numpy(), delta_solar['delta gen GWh'][24+120:].to_numpy(), delta_wind['delta gen GWh'][24+120:].to_numpy()]).transpose().shape"
   ]
  },
  {
   "cell_type": "code",
   "execution_count": 28,
   "metadata": {},
   "outputs": [
    {
     "name": "stdout",
     "output_type": "stream",
     "text": [
      "R^2: 0.4263912298476191\n",
      "{'copy_X': True, 'fit_intercept': True, 'n_jobs': None, 'normalize': False}\n",
      "intercept: 8.446155568499666\n",
      "beta     lower est upper\n",
      "beta 0 : -0.24781226214030694 -0.24534445099470148 -0.24287663984909602\n",
      "beta 1 : -0.8782291391419174 -0.837318349610894 -0.7964075600798707\n",
      "beta 2 : -0.8951550669401764 -0.8833763129608939 -0.8715975589816114\n"
     ]
    },
    {
     "name": "stderr",
     "output_type": "stream",
     "text": [
      "H:\\Program\\Anaconda\\envs\\Finstat\\lib\\site-packages\\ipykernel_launcher.py:9: RuntimeWarning: More than 20 figures have been opened. Figures created through the pyplot interface (`matplotlib.pyplot.figure`) are retained until explicitly closed and may consume too much memory. (To control this warning, see the rcParam `figure.max_open_warning`).\n",
      "  if __name__ == '__main__':\n"
     ]
    }
   ],
   "source": [
    "from sklearn import linear_model\n",
    "reg = linear_model.LinearRegression()\n",
    "regdata = np.array([Ph['Price'].to_numpy(), delta_solar['delta gen GWh'].to_numpy(), delta_wind['delta gen GWh'].to_numpy()]).transpose()\n",
    "reg.fit(regdata,delta_ph['delta Price'].to_numpy())\n",
    "#print('Betas:', reg.coef_)\n",
    "print('R^2:', reg.score(regdata, delta_ph['delta Price'].to_numpy()))\n",
    "print(reg.get_params(deep=True))\n",
    "print(\"intercept:\", reg.intercept_)\n",
    "plt.figure()\n",
    "residuals_model = delta_ph['delta Price'] -  reg.predict(regdata)\n",
    "plt.plot(residuals_model)\n",
    "plt.title('Residuals Model 1')\n",
    "plt.show()\n",
    "\n",
    "XTXinv = np.linalg.inv(np.matmul(regdata.transpose(),regdata))\n",
    "s2 = sum(residuals_model**2)/(len(residuals_model)-regdata.shape[1]-1)\n",
    "confintlower = []\n",
    "confintupper = []\n",
    "for i in range(regdata.shape[1]):\n",
    "    I_beta = reg.coef_[i]\n",
    "    width_I = 2*math.sqrt(s2)*math.sqrt(XTXinv[i,i])\n",
    "    confintlower.append(I_beta-width_I)\n",
    "    confintupper.append(I_beta+width_I)\n",
    "print(\"beta    \", \"lower\", \"est\", \"upper\")\n",
    "for i in range(len(confintlower)):\n",
    "    print(\"beta\", i,\":\", confintlower[i], reg.coef_[i], confintupper[i])"
   ]
  },
  {
   "cell_type": "code",
   "execution_count": 29,
   "metadata": {},
   "outputs": [
    {
     "data": {
      "text/plain": [
       "109.7195107810937"
      ]
     },
     "execution_count": 29,
     "metadata": {},
     "output_type": "execute_result"
    }
   ],
   "source": [
    "np.var(delta_ph['delta Price'].to_numpy()-reg.predict(np.array([Ph['Price'].to_numpy(), delta_solar['delta gen GWh'].to_numpy(), delta_wind['delta gen GWh'].to_numpy()]).transpose()))"
   ]
  },
  {
   "cell_type": "code",
   "execution_count": 30,
   "metadata": {},
   "outputs": [
    {
     "name": "stderr",
     "output_type": "stream",
     "text": [
      "H:\\Program\\Anaconda\\envs\\Finstat\\lib\\site-packages\\ipykernel_launcher.py:9: RuntimeWarning: More than 20 figures have been opened. Figures created through the pyplot interface (`matplotlib.pyplot.figure`) are retained until explicitly closed and may consume too much memory. (To control this warning, see the rcParam `figure.max_open_warning`).\n",
      "  if __name__ == '__main__':\n"
     ]
    },
    {
     "data": {
      "text/plain": [
       "[<matplotlib.lines.Line2D at 0x16c06970148>]"
      ]
     },
     "execution_count": 30,
     "metadata": {},
     "output_type": "execute_result"
    }
   ],
   "source": [
    "testday = \"2016-10-24\"\n",
    "testdate = datetime.datetime.strptime(testday, \"%Y-%m-%d\")\n",
    "date = testdate.strftime(\"%Y-%m-%d\")\n",
    "date2 = (testdate-datetime.timedelta(hours=24)).strftime(\"%Y-%m-%d\")\n",
    "Xtest1 = delta_wind.loc[delta_wind['Datetime'].str.match(date)]['delta gen GWh']\n",
    "Xtest2 = delta_solar.loc[delta_solar['Datetime'].str.match(date)]['delta gen GWh']\n",
    "Ytest = delta_ph.loc[delta_ph['Datetime'].str.match(date)]['delta Price']\n",
    "Xtest3 = daprice_germany_new.loc[daprice_germany_new['Datetime'].str.match(date2)]['Price']\n",
    "plt.figure()\n",
    "plt.plot(reg.predict(np.array([Xtest3, Xtest2, Xtest1]).transpose())-Ytest)"
   ]
  },
  {
   "cell_type": "code",
   "execution_count": 5,
   "metadata": {},
   "outputs": [],
   "source": [
    "plt.close('all')"
   ]
  },
  {
   "cell_type": "code",
   "execution_count": 32,
   "metadata": {},
   "outputs": [
    {
     "data": {
      "text/plain": [
       "144      0.0\n",
       "145      0.0\n",
       "146      0.0\n",
       "147      0.0\n",
       "148      0.0\n",
       "        ... \n",
       "50227    0.0\n",
       "50228    0.0\n",
       "50229    0.0\n",
       "50230    0.0\n",
       "50231    0.0\n",
       "Name: Fossil hard coal[GWh], Length: 50088, dtype: float64"
      ]
     },
     "execution_count": 32,
     "metadata": {},
     "output_type": "execute_result"
    }
   ],
   "source": [
    "high_production_brown_coal = actprod['Fossil brown coal[MWh]'][24+120:].apply(lambda x: max((x-12000)/1000, 0))\n",
    "high_production_brown_coal.rename('Fossil brown coal[GWh]')\n",
    "high_production_hard_coal = actprod['Fossil hard coal[MWh]'][24+120:].apply(lambda x: max((x-10000)/1000,0))\n",
    "high_production_hard_coal.rename('Fossil hard coal[GWh]')"
   ]
  },
  {
   "cell_type": "code",
   "execution_count": 33,
   "metadata": {},
   "outputs": [
    {
     "name": "stdout",
     "output_type": "stream",
     "text": [
      "R^2: 0.4684740301703184\n",
      "{'copy_X': True, 'fit_intercept': True, 'n_jobs': None, 'normalize': False}\n",
      "intercept: 8.091864854182246\n",
      "beta     lower est upper\n",
      "beta 0 : -0.3259967534551672 -0.3220710913052753 -0.31814542915538335\n",
      "beta 1 : -0.8016426040618054 -0.7621802945322049 -0.7227179850026044\n",
      "beta 2 : -0.7928162490969161 -0.780933838434977 -0.7690514277730379\n",
      "beta 3 : 0.9649095096312174 1.0181443225191493 1.0713791354070814\n",
      "beta 4 : 0.7348886585587845 0.7868715905693129 0.8388545225798413\n"
     ]
    }
   ],
   "source": [
    "reg2 = linear_model.LinearRegression()\n",
    "regdata = np.array([Ph['Price'].to_numpy(), delta_solar['delta gen GWh'].to_numpy(), delta_wind['delta gen GWh'].to_numpy(), high_production_hard_coal, high_production_brown_coal]).transpose()\n",
    "reg2.fit(regdata,delta_ph['delta Price'].to_numpy())\n",
    "#print('Betas:', reg2.coef_)\n",
    "print('R^2:', reg2.score(regdata,delta_ph['delta Price'].to_numpy()))\n",
    "print(reg2.get_params(deep=True))\n",
    "print(\"intercept:\", reg2.intercept_)\n",
    "plt.figure()\n",
    "residuals_model_2 = delta_ph['delta Price']- reg2.predict(regdata) \n",
    "plt.plot(residuals_model_2)\n",
    "plt.title('Residuals Model 2')\n",
    "plt.show()\n",
    "\n",
    "XTXinv = np.linalg.inv(np.matmul(regdata.transpose(),regdata))\n",
    "s2 = sum(residuals_model_2**2)/(len(residuals_model_2)-regdata.shape[1]-1)\n",
    "confintlower = []\n",
    "confintupper = []\n",
    "for i in range(regdata.shape[1]):\n",
    "    I_beta = reg2.coef_[i]\n",
    "    width_I = 2*math.sqrt(s2)*math.sqrt(XTXinv[i,i])\n",
    "    confintlower.append(I_beta-width_I)\n",
    "    confintupper.append(I_beta+width_I)\n",
    "print(\"beta    \", \"lower\", \"est\", \"upper\")\n",
    "for i in range(len(confintlower)):\n",
    "    print(\"beta\", i,\":\", confintlower[i], reg2.coef_[i], confintupper[i])"
   ]
  },
  {
   "cell_type": "code",
   "execution_count": null,
   "metadata": {},
   "outputs": [],
   "source": []
  },
  {
   "cell_type": "code",
   "execution_count": 35,
   "metadata": {},
   "outputs": [],
   "source": [
    "norm_solar = normalized_productions['Photovoltaics[MWh]'][144:].to_numpy()\n",
    "norm_wind = (normalized_productions['Wind offshore[MWh]'][144:] + normalized_productions['Wind onshore[MWh]'][144:]).to_numpy()\n",
    "norm_hardcoal = normalized_productions['Fossil hard coal[MWh]'][144:].to_numpy()\n",
    "norm_browncoal = normalized_productions['Fossil brown coal[MWh]'][144:].to_numpy()\n",
    "norm_biomass = normalized_productions['Biomass[MWh]'][144:].to_numpy()\n",
    "norm_hydro = normalized_productions['Hydropower[MWh]'][144:].to_numpy()\n",
    "norm_nuclear = normalized_productions['Nuclear[MWh]'][144:].to_numpy()\n",
    "norm_gas = normalized_productions['Fossil gas[MWh]'][144:].to_numpy()\n",
    "norm_coal = norm_hardcoal+norm_browncoal\n",
    "\n"
   ]
  },
  {
   "cell_type": "code",
   "execution_count": 36,
   "metadata": {},
   "outputs": [
    {
     "name": "stdout",
     "output_type": "stream",
     "text": [
      "Betas: [ -0.54429436  -0.47709855  -0.51000048  -0.24956758  -1.60144222\n",
      "  -2.05839802   0.26859623  23.72490861  35.01301092 -27.12121443\n",
      "  49.64734945]\n",
      "R^2: 0.6105485098780279\n",
      "{'copy_X': True, 'fit_intercept': True, 'n_jobs': None, 'normalize': False}\n",
      "intercept: 4.390233535492401\n",
      "beta     lower est upper\n",
      "beta 0 : -0.5505087154193815 -0.5442943559697883 -0.538079996520195\n",
      "beta 1 : -0.5116696907871102 -0.4770985549338914 -0.44252741908067256\n",
      "beta 2 : -0.5221302246607714 -0.5100004763173281 -0.49787072797388493\n",
      "beta 3 : -0.32332880909503964 -0.24956758369857052 -0.1758063583021014\n",
      "beta 4 : -1.6875781859133705 -1.6014422184016455 -1.5153062508899204\n",
      "beta 5 : -2.5544767042161003 -2.058398022364461 -1.5623193405128215\n",
      "beta 6 : 0.04125394850221806 0.2685962348969747 0.4959385212917313\n",
      "beta 7 : 22.700501941661553 23.7249086059534 24.749315270245244\n",
      "beta 8 : 33.98205586938958 35.01301091814933 36.04396596690907\n",
      "beta 9 : -27.96223681390315 -27.121214426431422 -26.280192038959694\n",
      "beta 10 : 48.57895120614444 49.647349448906084 50.71574769166773\n"
     ]
    }
   ],
   "source": [
    "reg3 = linear_model.LinearRegression()\n",
    "regdata = np.array([Ph['Price'].to_numpy(), delta_solar['delta gen GWh'].to_numpy(), \n",
    "                    delta_wind['delta gen GWh'].to_numpy(), high_production_hard_coal, \n",
    "                    high_production_brown_coal, norm_solar, norm_wind, norm_hardcoal, norm_browncoal, norm_biomass, \n",
    "                    norm_gas]).transpose()\n",
    "reg3.fit(regdata,delta_ph['delta Price'].to_numpy())\n",
    "print('Betas:', reg3.coef_)\n",
    "print('R^2:', reg3.score(regdata,delta_ph['delta Price'].to_numpy()))\n",
    "print(reg3.get_params(deep=True))\n",
    "print(\"intercept:\", reg3.intercept_)\n",
    "plt.figure()\n",
    "residuals_model_3 = delta_ph['delta Price']- reg3.predict(regdata)\n",
    "plt.plot(residuals_model_3)\n",
    "plt.title('Residuals Model 3')\n",
    "plt.show()\n",
    "XTXinv = np.linalg.inv(np.matmul(regdata.transpose(),regdata))\n",
    "s2 = sum(residuals_model_3**2)/(len(residuals_model_3)-regdata.shape[1]-1)\n",
    "confintlower = []\n",
    "confintupper = []\n",
    "for i in range(regdata.shape[1]):\n",
    "    I_beta = reg3.coef_[i]\n",
    "    width_I = 2*math.sqrt(s2)*math.sqrt(XTXinv[i,i])\n",
    "    confintlower.append(I_beta-width_I)\n",
    "    confintupper.append(I_beta+width_I)\n",
    "plt.figure()\n",
    "plt.plot(confintlower)\n",
    "plt.plot(confintupper)\n",
    "plt.plot(reg3.coef_)\n",
    "plt.show()\n",
    "print(\"beta    \", \"lower\", \"est\", \"upper\")\n",
    "for i in range(len(confintlower)):\n",
    "    print(\"beta\", i,\":\", confintlower[i], reg3.coef_[i], confintupper[i])"
   ]
  },
  {
   "cell_type": "code",
   "execution_count": null,
   "metadata": {},
   "outputs": [],
   "source": []
  },
  {
   "cell_type": "code",
   "execution_count": 37,
   "metadata": {},
   "outputs": [
    {
     "name": "stdout",
     "output_type": "stream",
     "text": [
      "Betas: [-0.38269012 -0.70079296 -0.69338162 14.72490355]\n",
      "R^2: 0.5118643758828385\n",
      "{'copy_X': True, 'fit_intercept': True, 'n_jobs': None, 'normalize': False}\n",
      "intercept: 4.390233535492401\n",
      "beta     lower est upper\n",
      "beta 0 : -0.38861868453547777 -0.3826901221997923 -0.37676155986410687\n",
      "beta 1 : -0.7125623257514497 -0.7007929597625892 -0.6890235937737286\n",
      "beta 2 : -0.7312865707239433 -0.6933816245785763 -0.6554766784332093\n",
      "beta 3 : 14.494233593477336 14.72490355418425 14.955573514891164\n"
     ]
    }
   ],
   "source": [
    "reg4 = linear_model.LinearRegression()\n",
    "regdata = np.array([Ph['Price'].to_numpy(),  delta_wind['delta gen GWh'],delta_solar['delta gen GWh'] , norm_coal]).transpose()\n",
    "reg4.fit(regdata,delta_ph['delta Price'].to_numpy())\n",
    "print('Betas:', reg4.coef_)\n",
    "print('R^2:', reg4.score(regdata,delta_ph['delta Price'].to_numpy()))\n",
    "print(reg4.get_params(deep=True))\n",
    "print(\"intercept:\", reg3.intercept_)\n",
    "plt.figure()\n",
    "residuals_model_4 = delta_ph['delta Price']- reg4.predict(regdata)\n",
    "plt.plot(residuals_model_4)\n",
    "plt.title('Residuals Model 4')\n",
    "plt.show()\n",
    "XTXinv = np.linalg.inv(np.matmul(regdata.transpose(),regdata))\n",
    "s2 = sum(residuals_model_4**2)/(len(residuals_model_4)-regdata.shape[1]-1)\n",
    "confintlower = []\n",
    "confintupper = []\n",
    "for i in range(regdata.shape[1]):\n",
    "    I_beta = reg4.coef_[i]\n",
    "    width_I = 2*math.sqrt(s2)*math.sqrt(XTXinv[i,i])\n",
    "    confintlower.append(I_beta-width_I)\n",
    "    confintupper.append(I_beta+width_I)\n",
    "plt.figure()\n",
    "plt.plot(confintlower)\n",
    "plt.plot(confintupper)\n",
    "plt.plot(reg4.coef_)\n",
    "plt.show()\n",
    "print(\"beta    \", \"lower\", \"est\", \"upper\")\n",
    "for i in range(len(confintlower)):\n",
    "    print(\"beta\", i,\":\", confintlower[i], reg4.coef_[i], confintupper[i])"
   ]
  },
  {
   "cell_type": "code",
   "execution_count": null,
   "metadata": {},
   "outputs": [],
   "source": []
  },
  {
   "cell_type": "code",
   "execution_count": 38,
   "metadata": {},
   "outputs": [],
   "source": [
    "plt.close('all')"
   ]
  },
  {
   "cell_type": "code",
   "execution_count": null,
   "metadata": {},
   "outputs": [],
   "source": []
  },
  {
   "cell_type": "code",
   "execution_count": null,
   "metadata": {},
   "outputs": [],
   "source": []
  },
  {
   "cell_type": "code",
   "execution_count": null,
   "metadata": {},
   "outputs": [],
   "source": []
  },
  {
   "cell_type": "code",
   "execution_count": null,
   "metadata": {},
   "outputs": [],
   "source": []
  },
  {
   "cell_type": "code",
   "execution_count": null,
   "metadata": {},
   "outputs": [],
   "source": []
  },
  {
   "cell_type": "code",
   "execution_count": null,
   "metadata": {},
   "outputs": [],
   "source": []
  },
  {
   "cell_type": "code",
   "execution_count": null,
   "metadata": {},
   "outputs": [],
   "source": []
  },
  {
   "cell_type": "code",
   "execution_count": null,
   "metadata": {},
   "outputs": [],
   "source": []
  },
  {
   "cell_type": "code",
   "execution_count": null,
   "metadata": {},
   "outputs": [],
   "source": []
  }
 ],
 "metadata": {
  "kernelspec": {
   "display_name": "Python 3",
   "language": "python",
   "name": "python3"
  },
  "language_info": {
   "codemirror_mode": {
    "name": "ipython",
    "version": 3
   },
   "file_extension": ".py",
   "mimetype": "text/x-python",
   "name": "python",
   "nbconvert_exporter": "python",
   "pygments_lexer": "ipython3",
   "version": "3.7.5"
  }
 },
 "nbformat": 4,
 "nbformat_minor": 4
}
