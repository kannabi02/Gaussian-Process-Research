{
 "cells": [
  {
   "cell_type": "code",
   "execution_count": 1,
   "metadata": {},
   "outputs": [],
   "source": [
    "import pandas as pd\n",
    "import numpy as np\n",
    "import arkadia\n",
    "import math\n",
    "import matplotlib.pyplot as plt\n",
    "from front_read.loader import *\n",
    "from Shaping import yearly_shaping as ys\n",
    "import pdb\n"
   ]
  },
  {
   "cell_type": "markdown",
   "metadata": {},
   "source": [
    "# Quarter to year ratios"
   ]
  },
  {
   "cell_type": "code",
   "execution_count": 2,
   "metadata": {},
   "outputs": [
    {
     "data": {
      "text/plain": [
       "Q1_2year    1.061852\n",
       "Q2_2year    0.909626\n",
       "Q3_2year    0.945676\n",
       "Q4_2year    1.082526\n",
       "dtype: float64"
      ]
     },
     "execution_count": 2,
     "metadata": {},
     "output_type": "execute_result"
    }
   ],
   "source": [
    "#Q2Y 2020\n",
    "#Load data from Mesap \n",
    "# The rolling timeseries will be queried for these days (=rows in the resulting data frame)\n",
    "start_q_2020 = pd.Timestamp('2018-06-01').tz_localize('Europe/Berlin') #start trading period\n",
    "end_q_2020 = pd.Timestamp('2019-12-31').tz_localize('Europe/Berlin') #end trading period\n",
    "eex_strom_germany_q_2020 = load_data('eex-strom-germany-phelixfuture-base', start_q_2020, end_q_2020, fyears=1, fquarters=8, fmonths=0)\n",
    "settlementYear = 2020 #Pick the year after the \"end\"-year in the previous cell.  \n",
    "Q2Y_2020 = ys.quarter2year(eex_strom_germany_q_2020,settlementYear)\n",
    "Q2Y_2020[['Q1_2year','Q2_2year','Q3_2year','Q4_2year']].mean()"
   ]
  },
  {
   "cell_type": "code",
   "execution_count": 3,
   "metadata": {},
   "outputs": [
    {
     "data": {
      "text/plain": [
       "Q1_2year    1.038353\n",
       "Q2_2year    0.902827\n",
       "Q3_2year    0.952487\n",
       "Q4_2year    1.106080\n",
       "dtype: float64"
      ]
     },
     "execution_count": 3,
     "metadata": {},
     "output_type": "execute_result"
    }
   ],
   "source": [
    "#Q2Y test 2021\n",
    "#Load data from Mesap \n",
    "# The rolling timeseries will be queried for these days (=rows in the resulting data frame)\n",
    "start_q_2021 = pd.Timestamp('2019-06-01').tz_localize('Europe/Berlin') #start trading period\n",
    "end_q_2021 = pd.Timestamp('2020-12-31').tz_localize('Europe/Berlin') #end trading period\n",
    "eex_strom_germany_q_2021 = load_data('eex-strom-germany-phelixfuture-base', start_q_2021, end_q_2021, fyears=1, fquarters=8, fmonths=0)\n",
    "settlementYear = 2021 #Pick the year after the \"end\"-year in the previous cell.  \n",
    "Q2Y_2021 = ys.quarter2year(eex_strom_germany_q_2021,settlementYear)\n",
    "Q2Y_2021[['Q1_2year','Q2_2year','Q3_2year','Q4_2year']].mean()"
   ]
  },
  {
   "cell_type": "code",
   "execution_count": 4,
   "metadata": {},
   "outputs": [
    {
     "data": {
      "text/html": [
       "<div>\n",
       "<style scoped>\n",
       "    .dataframe tbody tr th:only-of-type {\n",
       "        vertical-align: middle;\n",
       "    }\n",
       "\n",
       "    .dataframe tbody tr th {\n",
       "        vertical-align: top;\n",
       "    }\n",
       "\n",
       "    .dataframe thead th {\n",
       "        text-align: right;\n",
       "    }\n",
       "</style>\n",
       "<table border=\"1\" class=\"dataframe\">\n",
       "  <thead>\n",
       "    <tr style=\"text-align: right;\">\n",
       "      <th></th>\n",
       "      <th>weights</th>\n",
       "    </tr>\n",
       "  </thead>\n",
       "  <tbody>\n",
       "    <tr>\n",
       "      <th>Q1</th>\n",
       "      <td>1.061852</td>\n",
       "    </tr>\n",
       "    <tr>\n",
       "      <th>Q2</th>\n",
       "      <td>0.909626</td>\n",
       "    </tr>\n",
       "    <tr>\n",
       "      <th>Q3</th>\n",
       "      <td>0.945676</td>\n",
       "    </tr>\n",
       "    <tr>\n",
       "      <th>Q4</th>\n",
       "      <td>1.082526</td>\n",
       "    </tr>\n",
       "  </tbody>\n",
       "</table>\n",
       "</div>"
      ],
      "text/plain": [
       "     weights\n",
       "Q1  1.061852\n",
       "Q2  0.909626\n",
       "Q3  0.945676\n",
       "Q4  1.082526"
      ]
     },
     "execution_count": 4,
     "metadata": {},
     "output_type": "execute_result"
    }
   ],
   "source": [
    "#Average Q2Y ratios (Analyst will make decision on which year to use in shape. Will manually change year)\n",
    "Q2Y_weights_month = pd.DataFrame(data=[Q2Y_2020['Q1_2year'].mean(),Q2Y_2020['Q1_2year'].mean(),Q2Y_2020['Q1_2year'].mean(),\n",
    "                                 Q2Y_2020['Q2_2year'].mean(),Q2Y_2020['Q2_2year'].mean(),Q2Y_2020['Q2_2year'].mean(),                                 \n",
    "                                 Q2Y_2020['Q3_2year'].mean(),Q2Y_2020['Q3_2year'].mean(),Q2Y_2020['Q3_2year'].mean(),\n",
    "                                 Q2Y_2020['Q4_2year'].mean(),Q2Y_2020['Q4_2year'].mean(),Q2Y_2020['Q4_2year'].mean()], \n",
    "                                 columns=['weights'],\n",
    "                                 index=[['January','February','March','April','May','June',\n",
    "                                        'July','August','September','October','November','December']]) \n",
    "Q2Y_weights = pd.DataFrame(data=[Q2Y_2020['Q1_2year'].mean(),\n",
    "                                 Q2Y_2020['Q2_2year'].mean(),                                 \n",
    "                                 Q2Y_2020['Q3_2year'].mean(),\n",
    "                                 Q2Y_2020['Q4_2year'].mean()], \n",
    "                                 columns=['weights'],\n",
    "                                 index=[['Q1','Q2','Q3','Q4']]) \n",
    "Q2Y_weights.head()"
   ]
  },
  {
   "cell_type": "markdown",
   "metadata": {},
   "source": [
    "# Month to quarter ratios"
   ]
  },
  {
   "cell_type": "code",
   "execution_count": 5,
   "metadata": {},
   "outputs": [],
   "source": [
    "#Load data from Mesap and calculate ratios for year 2019\n",
    "# The rolling timeseries will be queried for these days (=rows in the resulting data frame)\n",
    "settlement_year_m = 2019\n",
    "start_m_2019 = pd.Timestamp('2018-05-01').tz_localize('Europe/Berlin') #start trading period\n",
    "end_m_2019 = pd.Timestamp('2019-09-30').tz_localize('Europe/Berlin') #end trading period\n",
    "eex_strom_germany_m_2019 = load_data('eex-strom-germany-phelixfuture-base', start_m_2019, end_m_2019, fyears=0, fquarters=8, fmonths=8)\n",
    "M2Q_Q1_2019,M2Q_Q2_2019,M2Q_Q3_2019,M2Q_Q4_2019 = ys.month2quarter(eex_strom_germany_m_2019,settlement_year_m)"
   ]
  },
  {
   "cell_type": "code",
   "execution_count": 6,
   "metadata": {},
   "outputs": [],
   "source": [
    "#Load data from Mesap and calculate ratios for year 2018\n",
    "# The rolling timeseries will be queried for these days (=rows in the resulting data frame)\n",
    "settlement_year_m = 2018\n",
    "start_m_2018 = pd.Timestamp('2017-05-01').tz_localize('Europe/Berlin') #start trading period\n",
    "end_m_2018 = pd.Timestamp('2018-09-30').tz_localize('Europe/Berlin') #end trading period\n",
    "eex_strom_germany_m_2018 = load_data('eex-strom-germany-phelixfuture-base', start_m_2018, end_m_2018, fyears=0, fquarters=8, fmonths=8)\n",
    "M2Q_Q1_2018,M2Q_Q2_2018,M2Q_Q3_2018,M2Q_Q4_2018 = ys.month2quarter(eex_strom_germany_m_2018,settlement_year_m)\n"
   ]
  },
  {
   "cell_type": "code",
   "execution_count": 7,
   "metadata": {},
   "outputs": [],
   "source": [
    "#Load data from Mesap and calculate ratios for year 2020\n",
    "# The rolling timeseries will be queried for these days (=rows in the resulting data frame)\n",
    "settlement_year_m = 2020\n",
    "start_m_2020 = pd.Timestamp('2019-05-01').tz_localize('Europe/Berlin') #start trading period\n",
    "end_m_2020 = pd.Timestamp('2020-09-30').tz_localize('Europe/Berlin') #end trading period\n",
    "eex_strom_germany_m_2020 = load_data('eex-strom-germany-phelixfuture-base', start_m_2020, end_m_2020, fyears=0, fquarters=8, fmonths=8)\n",
    "M2Q_Q1_2020,M2Q_Q2_2020,M2Q_Q3_2020,M2Q_Q4_2020 = ys.month2quarter(eex_strom_germany_m_2020,settlement_year_m)"
   ]
  },
  {
   "cell_type": "code",
   "execution_count": 8,
   "metadata": {},
   "outputs": [],
   "source": [
    "#Load data from Mesap and calculate ratios for year 2020\n",
    "# The rolling timeseries will be queried for these days (=rows in the resulting data frame)\n",
    "settlement_year_m = 2021\n",
    "start_m_2021 = pd.Timestamp('2020-05-01').tz_localize('Europe/Berlin') #start trading period\n",
    "end_m_2021 = pd.Timestamp('2021-09-30').tz_localize('Europe/Berlin') #end trading period\n",
    "eex_strom_germany_m_2021 = load_data('eex-strom-germany-phelixfuture-base', start_m_2021, end_m_2021, fyears=0, fquarters=8, fmonths=8)\n",
    "M2Q_Q1_2021,M2Q_Q2_2021,M2Q_Q3_2021,M2Q_Q4_2021 = ys.month2quarter(eex_strom_germany_m_2021,settlement_year_m)\n"
   ]
  },
  {
   "cell_type": "code",
   "execution_count": 9,
   "metadata": {},
   "outputs": [],
   "source": [
    "#Average M2Q ratios based on 2019 data\n",
    "\n",
    "M2Q_weights_2019 = pd.DataFrame(data=[M2Q_Q1_2019['Jan_to_Q1'].mean(),M2Q_Q1_2019['Feb_to_Q1'].mean(),M2Q_Q1_2019['Mar_to_Q1'].mean(),\n",
    "                                M2Q_Q2_2019['Apr_to_Q2'].mean(),M2Q_Q2_2019['May_to_Q2'].mean(),M2Q_Q2_2019['Jun_to_Q2'].mean(),\n",
    "                                M2Q_Q3_2019['Jul_to_Q3'].mean(),M2Q_Q3_2019['Aug_to_Q3'].mean(),M2Q_Q3_2019['Sep_to_Q3'].mean(),\n",
    "                                M2Q_Q4_2019['Oct_to_Q4'].mean(),M2Q_Q4_2019['Nov_to_Q4'].mean(),M2Q_Q4_2019['Dec_to_Q4'].mean()],\n",
    "                                columns=['weights_2019'],\n",
    "                                index=[['January','February','March','April','May','June',\n",
    "                                        'July','August','September','October','November','December']]) \n",
    "\n",
    "\n",
    "\n"
   ]
  },
  {
   "cell_type": "code",
   "execution_count": 10,
   "metadata": {},
   "outputs": [],
   "source": [
    "#Average M2Q ratios based on 2018 data\n",
    "\n",
    "M2Q_weights_2018 = pd.DataFrame(data=[M2Q_Q1_2018['Jan_to_Q1'].mean(),M2Q_Q1_2018['Feb_to_Q1'].mean(),M2Q_Q1_2018['Mar_to_Q1'].mean(),\n",
    "                                M2Q_Q2_2018['Apr_to_Q2'].mean(),M2Q_Q2_2018['May_to_Q2'].mean(),M2Q_Q2_2018['Jun_to_Q2'].mean(),\n",
    "                                M2Q_Q3_2018['Jul_to_Q3'].mean(),M2Q_Q3_2018['Aug_to_Q3'].mean(),M2Q_Q3_2018['Sep_to_Q3'].mean(),\n",
    "                                M2Q_Q4_2018['Oct_to_Q4'].mean(),M2Q_Q4_2018['Nov_to_Q4'].mean(),M2Q_Q4_2018['Dec_to_Q4'].mean()],\n",
    "                                columns=['weights_2018'],\n",
    "                                index=[['January','February','March','April','May','June',\n",
    "                                        'July','August','September','October','November','December']]) \n",
    "\n",
    "\n",
    "\n",
    "\n"
   ]
  },
  {
   "cell_type": "code",
   "execution_count": 11,
   "metadata": {},
   "outputs": [],
   "source": [
    "#Average M2Q ratios based on 2020 data\n",
    "\n",
    "M2Q_weights_2020 = pd.DataFrame(data=[M2Q_Q1_2020['Jan_to_Q1'].mean(),M2Q_Q1_2020['Feb_to_Q1'].mean(),M2Q_Q1_2020['Mar_to_Q1'].mean(),\n",
    "                                M2Q_Q2_2020['Apr_to_Q2'].mean(),M2Q_Q2_2020['May_to_Q2'].mean(),M2Q_Q2_2020['Jun_to_Q2'].mean(),\n",
    "                                M2Q_Q3_2020['Jul_to_Q3'].mean(),M2Q_Q3_2020['Aug_to_Q3'].mean(),M2Q_Q3_2020['Sep_to_Q3'].mean(),\n",
    "                                M2Q_Q4_2020['Oct_to_Q4'].mean(),M2Q_Q4_2020['Nov_to_Q4'].mean(),M2Q_Q4_2020['Dec_to_Q4'].mean()],\n",
    "                                columns=['weights_2020'],\n",
    "                                index=[['January','February','March','April','May','June',\n",
    "                                        'July','August','September','October','November','December']]) \n",
    "\n"
   ]
  },
  {
   "cell_type": "code",
   "execution_count": 12,
   "metadata": {},
   "outputs": [],
   "source": [
    "#Average M2Q ratios based on 2021 data\n",
    "\n",
    "M2Q_weights_2021 = pd.DataFrame(data=[M2Q_Q1_2021['Jan_to_Q1'].mean(),M2Q_Q1_2021['Feb_to_Q1'].mean(),M2Q_Q1_2021['Mar_to_Q1'].mean(),\n",
    "                                M2Q_Q2_2021['Apr_to_Q2'].mean(),M2Q_Q2_2021['May_to_Q2'].mean(),M2Q_Q2_2021['Jun_to_Q2'].mean(),\n",
    "                                M2Q_Q3_2021['Jul_to_Q3'].mean(),M2Q_Q3_2021['Aug_to_Q3'].mean(),M2Q_Q3_2021['Sep_to_Q3'].mean(),\n",
    "                                M2Q_Q4_2021['Oct_to_Q4'].mean(),M2Q_Q4_2021['Nov_to_Q4'].mean(),M2Q_Q4_2021['Dec_to_Q4'].mean()],\n",
    "                                columns=['weights_2021'],\n",
    "                                index=[['January','February','March','April','May','June',\n",
    "                                        'July','August','September','October','November','December']]) \n",
    "\n"
   ]
  },
  {
   "cell_type": "code",
   "execution_count": 13,
   "metadata": {},
   "outputs": [
    {
     "data": {
      "text/plain": [
       "<AxesSubplot:title={'center':'M2Q weights estimated on different years'}>"
      ]
     },
     "execution_count": 13,
     "metadata": {},
     "output_type": "execute_result"
    },
    {
     "data": {
      "image/png": "[encoded data removed]",
      "text/plain": [
       "<Figure size 432x288 with 1 Axes>"
      ]
     },
     "metadata": {
      "needs_background": "light"
     },
     "output_type": "display_data"
    }
   ],
   "source": [
    "#Some plotting of the different M2Q weights to support analyst in decision\n",
    "pd.concat([pd.concat([pd.concat([M2Q_weights_2019,M2Q_weights_2018],axis=1),M2Q_weights_2020],axis=1),M2Q_weights_2021],axis=1).plot(title='M2Q weights estimated on different years',style='.-')\n"
   ]
  },
  {
   "cell_type": "markdown",
   "metadata": {},
   "source": [
    "# Month to year ratios"
   ]
  },
  {
   "cell_type": "code",
   "execution_count": 14,
   "metadata": {},
   "outputs": [
    {
     "data": {
      "text/html": [
       "<div>\n",
       "<style scoped>\n",
       "    .dataframe tbody tr th:only-of-type {\n",
       "        vertical-align: middle;\n",
       "    }\n",
       "\n",
       "    .dataframe tbody tr th {\n",
       "        vertical-align: top;\n",
       "    }\n",
       "\n",
       "    .dataframe thead th {\n",
       "        text-align: right;\n",
       "    }\n",
       "</style>\n",
       "<table border=\"1\" class=\"dataframe\">\n",
       "  <thead>\n",
       "    <tr style=\"text-align: right;\">\n",
       "      <th></th>\n",
       "      <th>weights_final</th>\n",
       "    </tr>\n",
       "  </thead>\n",
       "  <tbody>\n",
       "    <tr>\n",
       "      <th>January</th>\n",
       "      <td>1.049098</td>\n",
       "    </tr>\n",
       "    <tr>\n",
       "      <th>February</th>\n",
       "      <td>1.056586</td>\n",
       "    </tr>\n",
       "    <tr>\n",
       "      <th>March</th>\n",
       "      <td>0.899647</td>\n",
       "    </tr>\n",
       "    <tr>\n",
       "      <th>April</th>\n",
       "      <td>0.985227</td>\n",
       "    </tr>\n",
       "    <tr>\n",
       "      <th>May</th>\n",
       "      <td>0.977682</td>\n",
       "    </tr>\n",
       "    <tr>\n",
       "      <th>June</th>\n",
       "      <td>1.037849</td>\n",
       "    </tr>\n",
       "    <tr>\n",
       "      <th>July</th>\n",
       "      <td>0.970402</td>\n",
       "    </tr>\n",
       "    <tr>\n",
       "      <th>August</th>\n",
       "      <td>0.970408</td>\n",
       "    </tr>\n",
       "    <tr>\n",
       "      <th>September</th>\n",
       "      <td>1.061104</td>\n",
       "    </tr>\n",
       "    <tr>\n",
       "      <th>October</th>\n",
       "      <td>0.947241</td>\n",
       "    </tr>\n",
       "    <tr>\n",
       "      <th>November</th>\n",
       "      <td>1.071110</td>\n",
       "    </tr>\n",
       "    <tr>\n",
       "      <th>December</th>\n",
       "      <td>0.983945</td>\n",
       "    </tr>\n",
       "  </tbody>\n",
       "</table>\n",
       "</div>"
      ],
      "text/plain": [
       "           weights_final\n",
       "January         1.049098\n",
       "February        1.056586\n",
       "March           0.899647\n",
       "April           0.985227\n",
       "May             0.977682\n",
       "June            1.037849\n",
       "July            0.970402\n",
       "August          0.970408\n",
       "September       1.061104\n",
       "October         0.947241\n",
       "November        1.071110\n",
       "December        0.983945"
      ]
     },
     "execution_count": 14,
     "metadata": {},
     "output_type": "execute_result"
    }
   ],
   "source": [
    "#Analyst decides to combine the M2Q weights from 2019 (for Q1,Q2,Q3) and 2020 (for Q4). --> best forecast of future weights\n",
    "M2Q_weights = pd.DataFrame(data = [M2Q_Q1_2019['Jan_to_Q1'].mean(),M2Q_Q1_2019['Feb_to_Q1'].mean(),M2Q_Q1_2019['Mar_to_Q1'].mean(),\n",
    "                                M2Q_Q2_2019['Apr_to_Q2'].mean(),M2Q_Q2_2019['May_to_Q2'].mean(),M2Q_Q2_2019['Jun_to_Q2'].mean(),\n",
    "                                M2Q_Q3_2019['Jul_to_Q3'].mean(),M2Q_Q3_2019['Aug_to_Q3'].mean(),M2Q_Q3_2019['Sep_to_Q3'].mean(),\n",
    "                                M2Q_Q4_2020['Oct_to_Q4'].mean(),M2Q_Q4_2020['Nov_to_Q4'].mean(),M2Q_Q4_2020['Dec_to_Q4'].mean()],\n",
    "                                columns=['weights_final'],\n",
    "                                index=[['January','February','March','April','May','June',\n",
    "                                        'July','August','September','October','November','December']])\n",
    "M2Q_weights #These weoghts are not normalized"
   ]
  },
  {
   "cell_type": "code",
   "execution_count": 15,
   "metadata": {},
   "outputs": [
    {
     "data": {
      "text/html": [
       "<div>\n",
       "<style scoped>\n",
       "    .dataframe tbody tr th:only-of-type {\n",
       "        vertical-align: middle;\n",
       "    }\n",
       "\n",
       "    .dataframe tbody tr th {\n",
       "        vertical-align: top;\n",
       "    }\n",
       "\n",
       "    .dataframe thead th {\n",
       "        text-align: right;\n",
       "    }\n",
       "</style>\n",
       "<table border=\"1\" class=\"dataframe\">\n",
       "  <thead>\n",
       "    <tr style=\"text-align: right;\">\n",
       "      <th></th>\n",
       "      <th>nonleapYear</th>\n",
       "      <th>leapYear</th>\n",
       "    </tr>\n",
       "  </thead>\n",
       "  <tbody>\n",
       "    <tr>\n",
       "      <th>January</th>\n",
       "      <td>1.114180</td>\n",
       "      <td>1.113299</td>\n",
       "    </tr>\n",
       "    <tr>\n",
       "      <th>February</th>\n",
       "      <td>1.122132</td>\n",
       "      <td>1.121244</td>\n",
       "    </tr>\n",
       "    <tr>\n",
       "      <th>March</th>\n",
       "      <td>0.955457</td>\n",
       "      <td>0.954701</td>\n",
       "    </tr>\n",
       "    <tr>\n",
       "      <th>April</th>\n",
       "      <td>0.896336</td>\n",
       "      <td>0.896184</td>\n",
       "    </tr>\n",
       "    <tr>\n",
       "      <th>May</th>\n",
       "      <td>0.889472</td>\n",
       "      <td>0.889321</td>\n",
       "    </tr>\n",
       "    <tr>\n",
       "      <th>June</th>\n",
       "      <td>0.944210</td>\n",
       "      <td>0.944050</td>\n",
       "    </tr>\n",
       "    <tr>\n",
       "      <th>July</th>\n",
       "      <td>0.917859</td>\n",
       "      <td>0.917704</td>\n",
       "    </tr>\n",
       "    <tr>\n",
       "      <th>August</th>\n",
       "      <td>0.917865</td>\n",
       "      <td>0.917710</td>\n",
       "    </tr>\n",
       "    <tr>\n",
       "      <th>September</th>\n",
       "      <td>1.003651</td>\n",
       "      <td>1.003480</td>\n",
       "    </tr>\n",
       "    <tr>\n",
       "      <th>October</th>\n",
       "      <td>1.025611</td>\n",
       "      <td>1.025437</td>\n",
       "    </tr>\n",
       "    <tr>\n",
       "      <th>November</th>\n",
       "      <td>1.159728</td>\n",
       "      <td>1.159532</td>\n",
       "    </tr>\n",
       "    <tr>\n",
       "      <th>December</th>\n",
       "      <td>1.065351</td>\n",
       "      <td>1.065171</td>\n",
       "    </tr>\n",
       "  </tbody>\n",
       "</table>\n",
       "</div>"
      ],
      "text/plain": [
       "           nonleapYear  leapYear\n",
       "January       1.114180  1.113299\n",
       "February      1.122132  1.121244\n",
       "March         0.955457  0.954701\n",
       "April         0.896336  0.896184\n",
       "May           0.889472  0.889321\n",
       "June          0.944210  0.944050\n",
       "July          0.917859  0.917704\n",
       "August        0.917865  0.917710\n",
       "September     1.003651  1.003480\n",
       "October       1.025611  1.025437\n",
       "November      1.159728  1.159532\n",
       "December      1.065351  1.065171"
      ]
     },
     "execution_count": 15,
     "metadata": {},
     "output_type": "execute_result"
    }
   ],
   "source": [
    "#Building normalized M2Y weights for non-leap year and leap year (by combining M2QxQ2Y = M2Y)\n",
    "#Normalization means that the weighted average = 1 (weights are numHours in month).\n",
    "#Weights will be rolled out as monthly weights for future shaping time period. \n",
    "#nonleapYear weights for non-leap-years, and leapYear weights for leap years.\n",
    "M2Y_norm = ys.month2year_norm(Q2Y_weights,M2Q_weights) #this function performs normalization and calculates M2Y-weights\n",
    "#M2Y_norm.plot(title='Final M2Y weights',style='.-')\n",
    "M2Y_norm\n"
   ]
  },
  {
   "cell_type": "code",
   "execution_count": 16,
   "metadata": {},
   "outputs": [
    {
     "data": {
      "text/plain": [
       "<AxesSubplot:>"
      ]
     },
     "execution_count": 16,
     "metadata": {},
     "output_type": "execute_result"
    },
    {
     "data": {
      "image/png": "[encoded data removed]",
      "text/plain": [
       "<Figure size 432x288 with 1 Axes>"
      ]
     },
     "metadata": {
      "needs_background": "light"
     },
     "output_type": "display_data"
    }
   ],
   "source": [
    "#Roll out weights on a forward looking term structure (e.g. 2020-01-01 to 2021-12-31)\n",
    "fwdShape = pd.DataFrame(data=[],columns=['Shape'],index=pd.date_range(start='2020-01-01 00:00:00', end='2021-12-31 23:00:00', freq='M'))\n",
    "fwdShape['Year'] = fwdShape.index.year\n",
    "fwdShape['Month'] = fwdShape.index.month\n",
    "fwdShape['Hour'] = fwdShape.index.hour\n",
    "fwdShape['Weekday'] = fwdShape.index.weekday\n",
    "\n",
    "for T in fwdShape.index:\n",
    "    if pd.Timestamp(T.year, 1, 1).is_leap_year:\n",
    "        fwdShape.loc[T, 'Shape'] = M2Y_norm.loc[T.month_name(),'leapYear'].values\n",
    "    else:\n",
    "        fwdShape.loc[T, 'Shape'] = M2Y_norm.loc[T.month_name(),'nonleapYear'].values\n",
    "            \n",
    "\n",
    "fwdShape['Shape'].plot(style='.-')\n"
   ]
  },
  {
   "cell_type": "code",
   "execution_count": 98,
   "metadata": {},
   "outputs": [],
   "source": [
    "#The hourly structure (by Owen) can now be scaled to the rolled out monthly weights (with affine transformation)\n",
    "#--> final hourly shape! \n",
    "\n"
   ]
  },
  {
   "cell_type": "code",
   "execution_count": null,
   "metadata": {},
   "outputs": [],
   "source": []
  },
  {
   "cell_type": "code",
   "execution_count": null,
   "metadata": {},
   "outputs": [],
   "source": []
  }
 ],
 "metadata": {
  "kernelspec": {
   "display_name": "Python 3",
   "language": "python",
   "name": "python3"
  },
  "language_info": {
   "codemirror_mode": {
    "name": "ipython",
    "version": 3
   },
   "file_extension": ".py",
   "mimetype": "text/x-python",
   "name": "python",
   "nbconvert_exporter": "python",
   "pygments_lexer": "ipython3",
   "version": "3.7.3"
  }
 },
 "nbformat": 4,
 "nbformat_minor": 2
}
